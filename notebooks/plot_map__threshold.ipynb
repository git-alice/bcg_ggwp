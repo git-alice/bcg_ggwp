{
 "cells": [
  {
   "cell_type": "markdown",
   "id": "ff585848",
   "metadata": {},
   "source": [
    "### Ноутбук строит карту используя геоданные, визуализируя неэпидемологические данные"
   ]
  },
  {
   "cell_type": "code",
   "execution_count": 2,
   "id": "7275aef8",
   "metadata": {},
   "outputs": [],
   "source": [
    "import pandas as pd\n",
    "import numpy as np\n",
    "\n",
    "import plotly.express as px\n",
    "from urllib.request import urlopen\n",
    "import json\n",
    "import plotly.graph_objects as go"
   ]
  },
  {
   "cell_type": "code",
   "execution_count": 3,
   "id": "4dbdcb03",
   "metadata": {},
   "outputs": [],
   "source": [
    "pd.set_option(\"display.max_columns\", 35)"
   ]
  },
  {
   "cell_type": "code",
   "execution_count": 4,
   "id": "c9fa7650",
   "metadata": {},
   "outputs": [],
   "source": [
    "epi_df = pd.read_csv('./data/export_EPI_MAIN_weekly_201540_201939_FINAL__map_features.csv', index_col=0)"
   ]
  },
  {
   "cell_type": "code",
   "execution_count": 5,
   "id": "5010581c",
   "metadata": {},
   "outputs": [],
   "source": [
    "threshold = pd.read_csv('./data/threshold.csv', header=None)\n",
    "threshold.columns = ['DISTRICT_NAME', 'threshold']"
   ]
  },
  {
   "cell_type": "code",
   "execution_count": 6,
   "id": "4c676086",
   "metadata": {},
   "outputs": [],
   "source": [
    "epi_df_with_threshold = pd.merge(left=epi_df, right=threshold, how='left')"
   ]
  },
  {
   "cell_type": "code",
   "execution_count": 7,
   "id": "f577cf1c",
   "metadata": {},
   "outputs": [],
   "source": [
    "from datetime import date, datetime\n",
    "\n",
    "def create_dateime_col(full_df, day):\n",
    "    return pd.to_datetime(full_df[['YEAR', 'WEEK']].apply(\n",
    "        lambda x: date.fromisocalendar(x[0], x[1], day), axis=1))"
   ]
  },
  {
   "cell_type": "markdown",
   "id": "299ec3ad",
   "metadata": {},
   "source": [
    "### mapbox"
   ]
  },
  {
   "cell_type": "code",
   "execution_count": 8,
   "id": "0623ab9d",
   "metadata": {},
   "outputs": [],
   "source": [
    "with urlopen('https://raw.githubusercontent.com/codeforamerica/click_that_hood/master/public/data/russia.geojson') as response:\n",
    "    counties = json.load(response)\n",
    "    \n",
    "for k in range(len(counties['features'])):\n",
    "    counties['features'][k]['id'] = k"
   ]
  },
  {
   "cell_type": "code",
   "execution_count": 9,
   "id": "3b692720",
   "metadata": {},
   "outputs": [],
   "source": [
    "region_id_list = []\n",
    "regions_list = []\n",
    "\n",
    "for k in range(len(counties['features'])):\n",
    "    region_id_list.append(counties['features'][k]['id'])\n",
    "    regions_list.append(counties['features'][k]['properties']['name'])\n",
    "\n",
    "df_regions = pd.DataFrame()\n",
    "df_regions['region_id'] = region_id_list\n",
    "df_regions['region_name'] = regions_list"
   ]
  },
  {
   "cell_type": "code",
   "execution_count": 10,
   "id": "fe4c025b",
   "metadata": {},
   "outputs": [],
   "source": [
    "map1 = go.Choroplethmapbox(geojson=counties,\n",
    "                           locations=df_regions['region_id'],\n",
    "#                            z=df_regions['region_id'],\n",
    "                           z=[4]*df_regions['region_id'].size,\n",
    "                           text=df_regions['region_name'],\n",
    "                           colorscale=[[0, 'rgb(34, 150, 79)'],\n",
    "                                       [0.2, 'rgb(249, 247, 174)'],\n",
    "                                       [0.8, 'rgb(253, 172, 99)'],\n",
    "                                       [1, 'rgb(212, 50, 44)']],\n",
    "                           colorbar_thickness=20,\n",
    "#                            customdata=np.stack([df['cases'], df['died'], df['sick'], df['healed']], axis=-1),\n",
    "#                            hovertemplate='<b>%{text}</b>'+ '<br>' +\n",
    "#                                          'New cases: %{z}' + '<br>' +\n",
    "#                                          'Active cases: %{customdata[0]}' + '<br>' +\n",
    "#                                          'Deaths: %{customdata[1]}' + '<br>' +\n",
    "#                                          'Total cases: %{customdata[2]}' + '<br>' +\n",
    "#                                          'Recovered: %{customdata[3]}' +\n",
    "#                                          '<extra></extra>',\n",
    "                           hoverinfo='text, z',\n",
    "                           marker_line_color=\"black\",\n",
    "                           marker_line_width=0.1\n",
    ")"
   ]
  },
  {
   "cell_type": "code",
   "execution_count": 11,
   "id": "2641a2de",
   "metadata": {},
   "outputs": [
    {
     "ename": "IndentationError",
     "evalue": "unexpected indent (<ipython-input-11-8d7ac0ce2473>, line 9)",
     "output_type": "error",
     "traceback": [
      "\u001b[0;36m  File \u001b[0;32m\"<ipython-input-11-8d7ac0ce2473>\"\u001b[0;36m, line \u001b[0;32m9\u001b[0m\n\u001b[0;31m    )\u001b[0m\n\u001b[0m    ^\u001b[0m\n\u001b[0;31mIndentationError\u001b[0m\u001b[0;31m:\u001b[0m unexpected indent\n"
     ]
    }
   ],
   "source": [
    "map2 = go.Scattermapbox(\n",
    "        lat=epi_df_with_threshold['Широта'],\n",
    "        lon=epi_df_with_threshold['Долгота'],\n",
    "        text =epi_df_with_threshold[\"DISTRICT_NAME\"],\n",
    "        mode = 'markers',\n",
    "        marker_color='rgba(43, 234, 23, 0.5)',\n",
    "#         marker_color = df['cnt'],\n",
    "        marker_size = 1 + epi_df_with_threshold['threshold'])\n",
    "        )"
   ]
  },
  {
   "cell_type": "code",
   "execution_count": null,
   "id": "134218dd",
   "metadata": {},
   "outputs": [],
   "source": [
    "epi_df_with_threshold"
   ]
  },
  {
   "cell_type": "code",
   "execution_count": null,
   "id": "c9261721",
   "metadata": {},
   "outputs": [],
   "source": [
    "# epi_df['start_date'] = create_dateime_col(epi_df, 1)\n",
    "# epi_df['end_date'] = create_dateime_col(epi_df, 7)"
   ]
  },
  {
   "cell_type": "code",
   "execution_count": null,
   "id": "bf86e6b6",
   "metadata": {},
   "outputs": [],
   "source": [
    "fig = go.Figure(data=[map1, map2])"
   ]
  },
  {
   "cell_type": "code",
   "execution_count": null,
   "id": "0a5c0685",
   "metadata": {
    "scrolled": false
   },
   "outputs": [],
   "source": [
    "fig.update_layout(mapbox_style=\"carto-positron\",\n",
    "                  mapbox_zoom=1, mapbox_center = {\"lat\": 66, \"lon\": 94})\n",
    "fig.update_layout(margin={\"r\":0,\"t\":0,\"l\":0,\"b\":0})\n",
    "fig.show()"
   ]
  },
  {
   "cell_type": "code",
   "execution_count": null,
   "id": "e4e90b75",
   "metadata": {},
   "outputs": [],
   "source": []
  }
 ],
 "metadata": {
  "kernelspec": {
   "display_name": "Python 3",
   "language": "python",
   "name": "python3"
  },
  "language_info": {
   "codemirror_mode": {
    "name": "ipython",
    "version": 3
   },
   "file_extension": ".py",
   "mimetype": "text/x-python",
   "name": "python",
   "nbconvert_exporter": "python",
   "pygments_lexer": "ipython3",
   "version": "3.8.5"
  }
 },
 "nbformat": 4,
 "nbformat_minor": 5
}
