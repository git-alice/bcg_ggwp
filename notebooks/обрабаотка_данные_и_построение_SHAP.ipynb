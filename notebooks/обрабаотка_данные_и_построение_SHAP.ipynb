{
 "cells": [
  {
   "cell_type": "code",
   "execution_count": null,
   "metadata": {},
   "outputs": [],
   "source": [
    "import numpy as np\n",
    "import pandas as pd"
   ]
  },
  {
   "cell_type": "code",
   "execution_count": null,
   "metadata": {},
   "outputs": [],
   "source": [
    "import seaborn as sns\n",
    "import plotly.graph_objs as go"
   ]
  },
  {
   "cell_type": "code",
   "execution_count": null,
   "metadata": {},
   "outputs": [],
   "source": [
    "from datetime import date"
   ]
  },
  {
   "cell_type": "markdown",
   "metadata": {},
   "source": [
    "# Preprocessing"
   ]
  },
  {
   "cell_type": "code",
   "execution_count": null,
   "metadata": {},
   "outputs": [],
   "source": [
    "df_epi = pd.read_excel(\"data/export_EPI_MAIN_weekly_201540_201939_FINAL.xlsx\")\n",
    "df_lab = pd.read_excel(\"data/export_LABD_PCR_weekly_201540_201939_FINAL.xlsx\")"
   ]
  },
  {
   "cell_type": "code",
   "execution_count": null,
   "metadata": {},
   "outputs": [],
   "source": [
    "df_epi.columns = [\"region\", \"city\", \"informator\", \"year\", \"week\", \\\n",
    "                  \"orz_0_2\",  \"orz_3_6\", \"orz_7_14\", \"orz_15\", \"orz_all\",\\\n",
    "                  \"gripp_0_2\", \"gripp_3_6\", \"gripp_7_14\", \"gripp_15\", \"gripp_all\", \\\n",
    "                  \"p_0_2\", \"p_3_6\", \"p_7_14\", \"p_15\", \"p_all\"]\n",
    "df_lab.columns = [\"region\", \"city\", \"informator\", \"year\", \"week\",\\\n",
    "                  \"tests_gripp_0_2\", \"tests_gripp_3_6\", \"tests_gripp_7_14\", \"tests_gripp_15\", \"tests_gripp_all\",\\\n",
    "                  \"tests_gripp_pos_0_2\", \"tests_gripp_pos_3_6\", \"tests_gripp_pos_7_14\", \"tests_gripp_pos_15\",\\\n",
    "                  \"tests_gripp_pos_all\",\\\n",
    "                  \"tests_orz_0_2\", \"tests_orz_3_6\", \"tests_orz_7_14\", \"tests_orz_15\", \"tests_orz_all\",\\\n",
    "                  \"tests_orz_pos_0_2\", \"tests_orz_pos_3_6\", \"tests_orz_pos_7_14\", \"tests_orz_pos_15\",\\\n",
    "                  \"tests_orz_pos_all\"]"
   ]
  },
  {
   "cell_type": "code",
   "execution_count": null,
   "metadata": {},
   "outputs": [],
   "source": [
    "df_epi.drop(columns=['region', 'informator'], inplace=True)"
   ]
  },
  {
   "cell_type": "code",
   "execution_count": null,
   "metadata": {},
   "outputs": [],
   "source": [
    "def create_dateime_col(full_df, day):\n",
    "    return pd.to_datetime(full_df[['year', 'week']].apply(\n",
    "        lambda x: date.fromisocalendar(x[0], x[1], day), axis=1))"
   ]
  },
  {
   "cell_type": "code",
   "execution_count": null,
   "metadata": {},
   "outputs": [],
   "source": [
    "df_epi[\"date\"] = create_dateime_col(df_epi, 1)\n",
    "df_lab[\"date\"] = create_dateime_col(df_lab, 1)"
   ]
  },
  {
   "cell_type": "code",
   "execution_count": null,
   "metadata": {},
   "outputs": [],
   "source": [
    "df_epi = df_epi.set_index([\"city\", \"date\"])\n",
    "df_lab = df_lab.set_index([\"city\", \"date\"])"
   ]
  },
  {
   "cell_type": "code",
   "execution_count": null,
   "metadata": {},
   "outputs": [],
   "source": [
    "df_epi = df_epi.sort_index(level=[0, 1])\n",
    "df_lab = df_lab.sort_index(level=[0, 1])\n"
   ]
  },
  {
   "cell_type": "code",
   "execution_count": null,
   "metadata": {},
   "outputs": [],
   "source": [
    "orz = [\"orz_0_2\",  \"orz_3_6\", \"orz_7_14\", \"orz_15\", \"orz_all\"]\n",
    "gripp = [\"gripp_0_2\", \"gripp_3_6\", \"gripp_7_14\", \"gripp_15\", \"gripp_all\"]\n",
    "pop = [\"p_0_2\", \"p_3_6\", \"p_7_14\", \"p_15\", \"p_all\"]"
   ]
  },
  {
   "cell_type": "markdown",
   "metadata": {},
   "source": [
    "### Log target"
   ]
  },
  {
   "cell_type": "code",
   "execution_count": null,
   "metadata": {},
   "outputs": [],
   "source": [
    "# df_epi[orz+gripp] = np.log(1+df_epi[orz+gripp])"
   ]
  },
  {
   "cell_type": "markdown",
   "metadata": {},
   "source": [
    "### Diffs"
   ]
  },
  {
   "cell_type": "code",
   "execution_count": null,
   "metadata": {},
   "outputs": [],
   "source": [
    "# df_epi[orz+gripp] = (df_epi[orz+gripp] - df_epi.groupby('city')[orz+gripp].shift()).bfill()"
   ]
  },
  {
   "cell_type": "code",
   "execution_count": null,
   "metadata": {},
   "outputs": [],
   "source": [
    "df_epi"
   ]
  },
  {
   "cell_type": "code",
   "execution_count": null,
   "metadata": {},
   "outputs": [],
   "source": [
    "df_epi[pop] /= 1e5"
   ]
  },
  {
   "cell_type": "code",
   "execution_count": null,
   "metadata": {},
   "outputs": [],
   "source": [
    "for num1, num2, denom in zip(orz, gripp, pop):\n",
    "    df_epi[num1] = df_epi[num1].divide(df_epi[denom])\n",
    "    df_epi[num2] = df_epi[num2].divide(df_epi[denom])\n",
    "    "
   ]
  },
  {
   "cell_type": "code",
   "execution_count": null,
   "metadata": {},
   "outputs": [],
   "source": []
  },
  {
   "cell_type": "code",
   "execution_count": null,
   "metadata": {},
   "outputs": [],
   "source": [
    "cities = df_epi.index.get_level_values('city').unique()"
   ]
  },
  {
   "cell_type": "code",
   "execution_count": null,
   "metadata": {},
   "outputs": [],
   "source": [
    "def draw_series(df, cities, cols):\n",
    "    layouts = []\n",
    "    timeline = df.index.get_level_values('date').unique()\n",
    "    \n",
    "    for city in cities:\n",
    "        city_chank = df.loc[df.index.get_level_values('city') == city]\n",
    "        for col in cols:\n",
    "            layout = {'x': timeline,\n",
    "                      'y': city_chank[col],\n",
    "                      'name': city + '_' + col}\n",
    "            layouts.append(layout)\n",
    "    \n",
    "    fig = go.Figure(layouts)\n",
    "    return fig"
   ]
  },
  {
   "cell_type": "code",
   "execution_count": null,
   "metadata": {},
   "outputs": [],
   "source": [
    "def add_lines(fig, df):\n",
    "    left_border1 = df_epi.loc[df_epi['week'] == 22].index.get_level_values('date').unique()   \n",
    "    right_border1 = df_epi.loc[df_epi['week'] == 35].index.get_level_values('date').unique() \n",
    "    \n",
    "    left_border2 = df_epi.loc[df_epi['week'] == 36].index.get_level_values('date').unique()[:3] \n",
    "    right_border2 = df_epi.loc[df_epi['week'] == 47].index.get_level_values('date').unique()[1:]\n",
    "    \n",
    "    for l_b_1, r_b_1 in zip(left_border1, right_border1):\n",
    "        fig.add_vrect(x0=l_b_1, x1=r_b_1, \n",
    "                  annotation_text=\"Summer\", annotation_position=\"top left\",\n",
    "                  fillcolor=\"red\", opacity=0.25, line_width=0)\n",
    "        \n",
    "    for l_b_2, r_b_2 in zip(left_border2, right_border2):\n",
    "        fig.add_vrect(x0=l_b_2, x1=r_b_2, \n",
    "                  annotation_text=\"Fall\", annotation_position=\"top right\",\n",
    "                  fillcolor=\"green\", opacity=0.25, line_width=0)\n",
    "    return fig"
   ]
  },
  {
   "cell_type": "code",
   "execution_count": null,
   "metadata": {},
   "outputs": [],
   "source": []
  },
  {
   "cell_type": "code",
   "execution_count": null,
   "metadata": {},
   "outputs": [],
   "source": [
    "# cities = ['Москва', 'Казань', 'Нижний Новгород', 'Новосибирск']\n",
    "# columns = ['orz_all']\n",
    "\n",
    "# fig = draw_series(df_epi, cities, columns)\n",
    "# fig = add_lines(fig, df_epi)\n",
    "# fig.show(renderer='iframe')"
   ]
  },
  {
   "cell_type": "code",
   "execution_count": null,
   "metadata": {},
   "outputs": [],
   "source": []
  },
  {
   "cell_type": "code",
   "execution_count": null,
   "metadata": {},
   "outputs": [],
   "source": [
    "# df_epi_mean = df_epi.groupby(['city', 'week']).mean()"
   ]
  },
  {
   "cell_type": "code",
   "execution_count": null,
   "metadata": {},
   "outputs": [],
   "source": [
    "# df_epi_std = df_epi.groupby(['city', 'week']).std()"
   ]
  },
  {
   "cell_type": "code",
   "execution_count": null,
   "metadata": {},
   "outputs": [],
   "source": []
  },
  {
   "cell_type": "code",
   "execution_count": null,
   "metadata": {},
   "outputs": [],
   "source": [
    "# def draw_stats(mean, std, col):\n",
    "#     fig = go.Figure(data=go.Scatter(x=mean[col], y=std[col], mode='markers', text=mean.index))\n",
    "#     return fig\n",
    "\n",
    "# fig2 = draw_stats(df_epi_mean, df_epi_std, 'orz_all')\n",
    "# fig2.show(renderer='iframe')"
   ]
  },
  {
   "cell_type": "code",
   "execution_count": null,
   "metadata": {},
   "outputs": [],
   "source": [
    "def draw_stats(df, cities, col):\n",
    "    weeks = df.index.get_level_values('week')\n",
    "    layouts = []\n",
    "    for city in cities:\n",
    "        city_chank = df.loc[df.index.get_level_values('city') == city]\n",
    "        layout = go.Scatter(x=weeks, y=city_chank[col], mode='markers', name=city)\n",
    "        layouts.append(layout)\n",
    "        \n",
    "    fig = go.Figure(data=layouts)\n",
    "    return fig"
   ]
  },
  {
   "cell_type": "code",
   "execution_count": null,
   "metadata": {},
   "outputs": [],
   "source": [
    "# cities = df_epi.index.get_level_values('city').unique()\n",
    "# col = 'gripp_all'\n",
    "# fig2 = draw_stats(df_epi_mean, cities, col)\n",
    "# fig2.show(renderer='iframe')"
   ]
  },
  {
   "cell_type": "code",
   "execution_count": null,
   "metadata": {},
   "outputs": [],
   "source": [
    "# cities = df_epi.index.get_level_values('city').unique()\n",
    "# col = 'orz_all'\n",
    "# fig3 = draw_stats(df_epi_std, cities, col)\n",
    "# fig3.show(renderer='iframe')"
   ]
  },
  {
   "cell_type": "code",
   "execution_count": null,
   "metadata": {},
   "outputs": [],
   "source": []
  },
  {
   "cell_type": "code",
   "execution_count": null,
   "metadata": {},
   "outputs": [],
   "source": []
  },
  {
   "cell_type": "markdown",
   "metadata": {},
   "source": [
    "### Make target"
   ]
  },
  {
   "cell_type": "code",
   "execution_count": null,
   "metadata": {},
   "outputs": [],
   "source": [
    "df_summer = df_epi.loc[df_epi['week'].isin(list(range(24, 34)))]"
   ]
  },
  {
   "cell_type": "code",
   "execution_count": null,
   "metadata": {},
   "outputs": [],
   "source": [
    "df_target = df_summer.groupby('city').mean()[['orz_all']]"
   ]
  },
  {
   "cell_type": "markdown",
   "metadata": {},
   "source": [
    "### Make Dataset"
   ]
  },
  {
   "cell_type": "code",
   "execution_count": null,
   "metadata": {},
   "outputs": [],
   "source": [
    "df_data = pd.read_csv('data/very_big_dump.csv')"
   ]
  },
  {
   "cell_type": "code",
   "execution_count": null,
   "metadata": {},
   "outputs": [],
   "source": [
    "df_data.drop(columns=['level', 'lon', 'county'], inplace=True)"
   ]
  },
  {
   "cell_type": "code",
   "execution_count": null,
   "metadata": {},
   "outputs": [],
   "source": [
    "df_data = df_data.rename(columns={'Unnamed: 0': 'city'})"
   ]
  },
  {
   "cell_type": "code",
   "execution_count": null,
   "metadata": {},
   "outputs": [],
   "source": [
    "df_data = df_data.set_index('city')"
   ]
  },
  {
   "cell_type": "code",
   "execution_count": null,
   "metadata": {},
   "outputs": [],
   "source": []
  },
  {
   "cell_type": "code",
   "execution_count": null,
   "metadata": {},
   "outputs": [],
   "source": [
    "bad_cols = df_data.dtypes.loc[df_data.dtypes == 'object']"
   ]
  },
  {
   "cell_type": "code",
   "execution_count": null,
   "metadata": {},
   "outputs": [],
   "source": [
    "for col in bad_cols.index:\n",
    "    df_data[col] = df_data[col].str.replace(' ', '').astype(float)"
   ]
  },
  {
   "cell_type": "code",
   "execution_count": null,
   "metadata": {},
   "outputs": [],
   "source": []
  },
  {
   "cell_type": "code",
   "execution_count": null,
   "metadata": {},
   "outputs": [],
   "source": []
  },
  {
   "cell_type": "code",
   "execution_count": null,
   "metadata": {},
   "outputs": [],
   "source": [
    "from catboost import Pool, cv, CatBoostRegressor\n",
    "from sklearn.model_selection import train_test_split\n",
    "import shap"
   ]
  },
  {
   "cell_type": "markdown",
   "metadata": {},
   "source": [
    "### Train Valid splt"
   ]
  },
  {
   "cell_type": "code",
   "execution_count": null,
   "metadata": {},
   "outputs": [],
   "source": [
    "train_idx, valid_idx = train_test_split(df_data.index,\n",
    "                                        test_size=0.2,\n",
    "                                        random_state=None, \n",
    "                                        shuffle=True,\n",
    "                                        )"
   ]
  },
  {
   "cell_type": "code",
   "execution_count": null,
   "metadata": {},
   "outputs": [],
   "source": [
    "train_data = df_data.loc[df_data.index.isin(train_idx)]\n",
    "valid_data = df_data.loc[df_data.index.isin(valid_idx)]\n",
    "\n",
    "train_targer = df_target.loc[df_target.index.isin(train_idx)]\n",
    "valid_target = df_target.loc[df_target.index.isin(valid_idx)]"
   ]
  },
  {
   "cell_type": "code",
   "execution_count": null,
   "metadata": {},
   "outputs": [],
   "source": [
    "train_pool = Pool(data=train_data, label=train_targer,)\n",
    "val_pool = Pool(data=valid_data, label=valid_target,)"
   ]
  },
  {
   "cell_type": "markdown",
   "metadata": {},
   "source": [
    "### Set Model"
   ]
  },
  {
   "cell_type": "code",
   "execution_count": null,
   "metadata": {},
   "outputs": [],
   "source": [
    "model_params = dict(\n",
    "    thread_count=8,\n",
    "    iterations=2000,\n",
    "    loss_function='RMSE',\n",
    "    eval_metric='RMSE',\n",
    "    # learning_rate=0.01,\n",
    "    depth=4,\n",
    "#     bagging_temperature=0.8,\n",
    "    rsm=0.8,\n",
    "    allow_writing_files=False,\n",
    "    save_snapshot=False\n",
    ")"
   ]
  },
  {
   "cell_type": "code",
   "execution_count": null,
   "metadata": {},
   "outputs": [],
   "source": [
    "training_params = dict(\n",
    "                use_best_model=True,\n",
    "                early_stopping_rounds=50,\n",
    "                verbose=100\n",
    "                )"
   ]
  },
  {
   "cell_type": "code",
   "execution_count": null,
   "metadata": {},
   "outputs": [],
   "source": [
    "model = CatBoostRegressor()\n",
    "model.set_params(**model_params)"
   ]
  },
  {
   "cell_type": "code",
   "execution_count": null,
   "metadata": {},
   "outputs": [],
   "source": [
    "model = model.fit(train_pool, eval_set=val_pool, **training_params)"
   ]
  },
  {
   "cell_type": "code",
   "execution_count": null,
   "metadata": {},
   "outputs": [],
   "source": []
  },
  {
   "cell_type": "code",
   "execution_count": null,
   "metadata": {},
   "outputs": [],
   "source": [
    "prediction = model.predict(val_pool)\n",
    "prediction = pd.DataFrame(prediction, index=valid_target.index)"
   ]
  },
  {
   "cell_type": "code",
   "execution_count": null,
   "metadata": {},
   "outputs": [],
   "source": [
    "prediction"
   ]
  },
  {
   "cell_type": "code",
   "execution_count": null,
   "metadata": {},
   "outputs": [],
   "source": [
    "valid_target"
   ]
  },
  {
   "cell_type": "code",
   "execution_count": null,
   "metadata": {},
   "outputs": [],
   "source": []
  },
  {
   "cell_type": "code",
   "execution_count": null,
   "metadata": {},
   "outputs": [],
   "source": [
    "def _make_feature_importance_df_(model, data_pool):\n",
    "    feature_importance = model.get_feature_importance(data_pool)\n",
    "    feature_names = data_pool.get_feature_names()\n",
    "\n",
    "    importance = {}\n",
    "    for score, name in sorted(zip(feature_importance, feature_names), reverse=True):\n",
    "        importance[name] = score\n",
    "\n",
    "    feature_importance_df = pd.DataFrame.from_dict(importance, orient='index', columns=['score'])\n",
    "    feature_importance_df.index.name = 'features'\n",
    "    return feature_importance_df"
   ]
  },
  {
   "cell_type": "code",
   "execution_count": null,
   "metadata": {},
   "outputs": [],
   "source": [
    "_make_feature_importance_df_(model, train_pool)"
   ]
  },
  {
   "cell_type": "code",
   "execution_count": null,
   "metadata": {},
   "outputs": [],
   "source": []
  },
  {
   "cell_type": "code",
   "execution_count": null,
   "metadata": {},
   "outputs": [],
   "source": [
    "explainer = shap.Explainer(model)"
   ]
  },
  {
   "cell_type": "code",
   "execution_count": null,
   "metadata": {},
   "outputs": [],
   "source": [
    "shap_values = explainer(train_data)"
   ]
  },
  {
   "cell_type": "code",
   "execution_count": null,
   "metadata": {},
   "outputs": [],
   "source": [
    "shap.plots.beeswarm(shap_values)"
   ]
  },
  {
   "cell_type": "code",
   "execution_count": null,
   "metadata": {},
   "outputs": [],
   "source": [
    "# fig = plt.figure(figsize=(10, 10))\n",
    "shap.summary_plot(shap_values, train_data)"
   ]
  },
  {
   "cell_type": "code",
   "execution_count": null,
   "metadata": {},
   "outputs": [],
   "source": []
  },
  {
   "cell_type": "code",
   "execution_count": null,
   "metadata": {},
   "outputs": [],
   "source": []
  },
  {
   "cell_type": "code",
   "execution_count": null,
   "metadata": {},
   "outputs": [],
   "source": []
  },
  {
   "cell_type": "code",
   "execution_count": null,
   "metadata": {},
   "outputs": [],
   "source": []
  },
  {
   "cell_type": "code",
   "execution_count": null,
   "metadata": {},
   "outputs": [],
   "source": []
  },
  {
   "cell_type": "code",
   "execution_count": null,
   "metadata": {},
   "outputs": [],
   "source": []
  }
 ],
 "metadata": {
  "kernelspec": {
   "display_name": "Python 3",
   "language": "python",
   "name": "python3"
  },
  "language_info": {
   "codemirror_mode": {
    "name": "ipython",
    "version": 3
   },
   "file_extension": ".py",
   "mimetype": "text/x-python",
   "name": "python",
   "nbconvert_exporter": "python",
   "pygments_lexer": "ipython3",
   "version": "3.8.5"
  }
 },
 "nbformat": 4,
 "nbformat_minor": 2
}
