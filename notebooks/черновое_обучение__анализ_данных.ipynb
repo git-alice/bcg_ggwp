{
 "cells": [
  {
   "cell_type": "markdown",
   "metadata": {},
   "source": [
    "# Данный ноутбук доаггегирует все данные и делает первичные попытки что-либо обучить"
   ]
  },
  {
   "cell_type": "code",
   "execution_count": null,
   "metadata": {},
   "outputs": [],
   "source": [
    "import numpy as np\n",
    "import pandas as pd"
   ]
  },
  {
   "cell_type": "code",
   "execution_count": 4,
   "metadata": {},
   "outputs": [],
   "source": [
    "df = pd.read_csv(\"dump.csv\").rename(columns={\"Unnamed: 0\" : \"city\"})"
   ]
  },
  {
   "cell_type": "code",
   "execution_count": 34,
   "metadata": {},
   "outputs": [],
   "source": [
    "import numpy as np\n",
    "from scipy.optimize import fmin_l_bfgs_b\n",
    "from sklearn.utils.optimize import newton_cg\n",
    "from scipy.special import expit, exprel\n",
    "from scipy.linalg import eigvalsh\n",
    "from sklearn.utils.multiclass import check_classification_targets\n",
    "from sklearn.linear_model.base import LinearClassifierMixin, BaseEstimator\n",
    "from sklearn.utils import check_X_y\n",
    "from scipy.linalg import solve_triangular\n",
    "from sklearn.linear_model.logistic import ( _logistic_loss_and_grad, _logistic_loss, \n",
    "                                            _logistic_grad_hess,)\n",
    "\n",
    "\n",
    "\n",
    "class BayesianLogisticRegression(LinearClassifierMixin, BaseEstimator):\n",
    "    '''\n",
    "    Superclass for two different implementations of Bayesian Logistic Regression\n",
    "    ''' \n",
    "    def __init__(self, n_iter, tol, fit_intercept, verbose):\n",
    "        self.n_iter        = n_iter\n",
    "        self.tol           = tol\n",
    "        self.fit_intercept = fit_intercept\n",
    "        self.verbose       = verbose\n",
    "    \n",
    "    \n",
    "    def fit(self,X,y):\n",
    "        '''\n",
    "        Fits Bayesian Logistic Regression\n",
    "        Parameters\n",
    "        -----------\n",
    "        X: array-like of size (n_samples, n_features)\n",
    "           Training data, matrix of explanatory variables\n",
    "        \n",
    "        y: array-like of size (n_samples, )\n",
    "           Target values\n",
    "           \n",
    "        Returns\n",
    "        -------\n",
    "        self: object\n",
    "           self\n",
    "        '''\n",
    "        # preprocess data\n",
    "        X,y = check_X_y( X, y , dtype = np.float64)\n",
    "        check_classification_targets(y)\n",
    "        self.classes_ = np.unique(y)\n",
    "        n_classes = len(self.classes_)\n",
    "        \n",
    "        # prepare for ovr if required        \n",
    "        n_samples, n_features = X.shape\n",
    "        if self.fit_intercept:\n",
    "            X = self._add_intercept(X)\n",
    "            \n",
    "        if n_classes < 2:\n",
    "            raise ValueError(\"Need samples of at least 2 classes\")\n",
    "        if n_classes > 2:\n",
    "            self.coef_, self.sigma_ = [0]*n_classes,[0]*n_classes\n",
    "            self.intercept_         = [0]*n_classes\n",
    "        else:\n",
    "            self.coef_, self.sigma_, self.intercept_ = [0],[0],[0]\n",
    "\n",
    "        # make classifier for each class (one-vs-the rest)\n",
    "        for i in range(len(self.coef_)):\n",
    "            if n_classes == 2:\n",
    "                pos_class = self.classes_[1]\n",
    "            else:\n",
    "                pos_class = self.classes_[i]\n",
    "            mask = (y == pos_class)\n",
    "            y_bin = np.ones(y.shape, dtype=np.float64)\n",
    "            y_bin[~mask] = self._mask_val\n",
    "            coef_, sigma_ = self._fit(X,y_bin)\n",
    "            if self.fit_intercept:\n",
    "                self.intercept_[i],self.coef_[i] = self._get_intercept(coef_)\n",
    "            else:\n",
    "                self.coef_[i]      = coef_\n",
    "            self.sigma_[i] = sigma_\n",
    "            \n",
    "        self.coef_  = np.asarray(self.coef_)\n",
    "        return self\n",
    "        \n",
    "        \n",
    "    def predict_proba(self,X):\n",
    "        '''\n",
    "        Predicts probabilities of targets for test set\n",
    "        \n",
    "        Parameters\n",
    "        ----------\n",
    "        X: array-like of size [n_samples_test,n_features]\n",
    "           Matrix of explanatory variables (test set)\n",
    "           \n",
    "        Returns\n",
    "        -------\n",
    "        probs: numpy array of size [n_samples_test]\n",
    "           Estimated probabilities of target classes\n",
    "        '''\n",
    "        # construct separating hyperplane\n",
    "        scores = self.decision_function(X)\n",
    "        if self.fit_intercept:\n",
    "            X = self._add_intercept(X)\n",
    "        \n",
    "        # probit approximation to predictive distribution\n",
    "        sigma = self._get_sigma(X)\n",
    "        ks = 1. / ( 1. + np.pi*sigma / 8)**0.5\n",
    "        probs = expit(scores.T*ks).T\n",
    "\n",
    "        # handle several class cases\n",
    "        if probs.shape[1] == 1:\n",
    "            probs =  np.hstack([1 - probs, probs])\n",
    "        else:\n",
    "            probs /= np.reshape(np.sum(probs, axis = 1), (probs.shape[0],1))\n",
    "        return probs\n",
    "        \n",
    "        \n",
    "    def _add_intercept(self,X):\n",
    "        '''Adds intercept to data matrix'''\n",
    "        raise NotImplementedError\n",
    "        \n",
    "        \n",
    "    def _get_intercept(self,coef):\n",
    "        '''\n",
    "        Extracts value of intercept from coefficients\n",
    "        '''\n",
    "        raise NotImplementedError\n",
    "        \n",
    "        \n",
    "    def _get_sigma(self,X):\n",
    "        '''\n",
    "        Computes variance of predictive distribution (which is then used in \n",
    "        probit approximation of sigmoid)\n",
    "        '''\n",
    "        raise NotImplementedError\n",
    "\n",
    "\n",
    "\n",
    "class VetrovLogisticRegression(BayesianLogisticRegression):\n",
    "    '''\n",
    "    Implements Bayesian Logistic Regression with type II maximum likelihood \n",
    "    (sometimes it is called Empirical Bayes), uses Gaussian (Laplace) method \n",
    "    for approximation of evidence function.\n",
    "    Parameters\n",
    "    ----------\n",
    "    n_iter: int, optional (DEFAULT = 50)\n",
    "        Maximum number of iterations before termination\n",
    "        \n",
    "    tol: float, optional (DEFAULT = 1e-3)\n",
    "        If absolute change in precision parameter for weights is below threshold\n",
    "        algorithm terminates.\n",
    "        \n",
    "    solver: str, optional (DEFAULT = 'lbfgs_b')\n",
    "        Optimization method that is used for finding parameters of posterior\n",
    "        distribution ['lbfgs_b','newton_cg']\n",
    "        \n",
    "    n_iter_solver: int, optional (DEFAULT = 15)\n",
    "        Maximum number of iterations before termination of solver\n",
    "        \n",
    "    tol_solver: float, optional (DEFAULT = 1e-3)\n",
    "        Convergence threshold for solver (it is used in estimating posterior\n",
    "        distribution), \n",
    "    fit_intercept : bool, optional ( DEFAULT = True )\n",
    "        If True will use intercept in the model. If set\n",
    "        to false, no intercept will be used in calculations\n",
    "        \n",
    "    alpha: float (DEFAULT = 1e-6)\n",
    "        Initial regularization parameter (precision of prior distribution)\n",
    "        \n",
    "    verbose : boolean, optional (DEFAULT = True)\n",
    "        Verbose mode when fitting the model\n",
    "        \n",
    "    Attributes\n",
    "    ----------\n",
    "    coef_ : array, shape = (n_features)\n",
    "        Coefficients of the regression model (mean of posterior distribution)\n",
    "    sigma_ : array, shape = (n_features, )\n",
    "        eigenvalues of covariance matrix\n",
    "        \n",
    "    alpha_: float\n",
    "        Precision parameter of weight distribution\n",
    "    \n",
    "    intercept_: array, shape = (n_features)\n",
    "        intercept\n",
    "    \n",
    "    References:\n",
    "    -----------\n",
    "    [1] Pattern Recognition and Machine Learning, Bishop (2006) (pages 293 - 294)\n",
    "    '''\n",
    "    \n",
    "    def __init__(self, n_iter = 50, tol = 1e-3,solver = 'lbfgs_b',n_iter_solver = 15,\n",
    "                 tol_solver = 1e-3, fit_intercept = True, alpha = 1,  verbose = False):\n",
    "        super(VetrovLogisticRegression,self).__init__(n_iter, tol, fit_intercept, verbose)\n",
    "        self.n_iter_solver     = n_iter_solver\n",
    "        self.tol_solver        = tol_solver\n",
    "        self.alpha             = alpha\n",
    "        if solver not in ['lbfgs_b','newton_cg']:\n",
    "            raise ValueError(('Only \"lbfgs_b\" and \"newton_cg\" '\n",
    "                              'solvers are implemented'))\n",
    "        self.solver            = solver\n",
    "        # masking value (this is set for use in lbfgs_b and newton_cg)\n",
    "        self._mask_val         = -1.\n",
    "        \n",
    "\n",
    "    def _fit(self,X,y):\n",
    "        '''\n",
    "        Maximizes evidence function (type II maximum likelihood) \n",
    "        '''\n",
    "        # iterative evidence maximization\n",
    "        n_samples,n_features = X.shape\n",
    "        alpha = self.alpha * np.ones(n_features)\n",
    "        w0 = np.zeros(n_features)\n",
    "        \n",
    "        for i in range(self.n_iter):\n",
    "            \n",
    "            alpha0 = alpha\n",
    "            \n",
    "            # find mean & covariance of Laplace approximation to posterior\n",
    "            w, d   = self._posterior(X, y, alpha, w0) \n",
    "            \n",
    "            # use Iterative updates for Bayesian Logistic Regression\n",
    "            # Note in Bayesian Logistic Gull-MacKay fixed point updates \n",
    "            # and Expectation - Maximization algorithm give the same update\n",
    "            # rule\n",
    "            alpha = np.minimum((1 + d) / w ** 2, 1e6)\n",
    "            \n",
    "            \n",
    "            # check convergence\n",
    "            delta_alpha = sum(abs(alpha - alpha0))\n",
    "            print('alpha', alpha)\n",
    "            if delta_alpha < self.tol or i==self.n_iter-1:\n",
    "                break\n",
    "            \n",
    "        # after convergence we need to find updated MAP vector of parameters\n",
    "        # and covariance matrix of Laplace approximation\n",
    "        self.coef_, self.sigma_ = self._posterior(X, y, alpha , w)\n",
    "        self.alpha_ = alpha\n",
    "\n",
    "        return self.coef_, self.sigma_\n",
    "            \n",
    "\n",
    "    def _add_intercept(self,X):\n",
    "        '''\n",
    "        Adds intercept to data (intercept column is not used in lbfgs_b or newton_cg\n",
    "        it is used only in Hessian)\n",
    "        '''\n",
    "        return np.hstack((X,np.ones([X.shape[0],1])))\n",
    "        \n",
    "    \n",
    "    def _get_intercept(self,coef):\n",
    "        '''\n",
    "        Returns intercept and coefficients\n",
    "        '''\n",
    "        return coef[-1], coef[:-1]\n",
    "        \n",
    "        \n",
    "    def _get_sigma(self,X):\n",
    "        ''' Compute variance of predictive distribution'''\n",
    "        return np.asarray([ np.sum(X**2*s,axis = 1) for s in self.sigma_]) \n",
    "    \n",
    "    def _posterior(self, X, y, alpha0, w0):\n",
    "        '''\n",
    "        Iteratively refitted least squares method using l_bfgs_b or newton_cg.\n",
    "        Finds MAP estimates for weights and Hessian at convergence point\n",
    "        '''\n",
    "        n_samples,n_features  = X.shape\n",
    "        assert alpha0.shape == (n_features,)\n",
    "        tol = 10\n",
    "        w = w0\n",
    "        diag_Hess = None\n",
    "        \n",
    "        while tol > self.tol_solver:\n",
    "            # calculate negative of Hessian at w\n",
    "            \n",
    "            xw    = np.dot(X, w)\n",
    "            s     = expit(xw * y)\n",
    "            R     = s * (1 - s)\n",
    "            Hess  = np.dot(X.T*R,X)    \n",
    "            Alpha = alpha0\n",
    "            np.fill_diagonal(Hess, np.diag(Hess) + Alpha)\n",
    "            \n",
    "            z = Alpha * w - (((1-s) * y).reshape(-1, 1) * X).sum(axis=0) \n",
    "            inv_Hess = np.linalg.inv(Hess)\n",
    "            diag_Hess = np.diag(inv_Hess)\n",
    "            \n",
    "            w_new = w - inv_Hess @ z\n",
    "             \n",
    "            tol = np.sum(np.abs(w_new - w))\n",
    "            w = w_new\n",
    "            \n",
    "            print(tol)\n",
    "            \n",
    "        return w, diag_Hess"
   ]
  },
  {
   "cell_type": "code",
   "execution_count": 6,
   "metadata": {},
   "outputs": [],
   "source": [
    "lr = VetrovLogisticRegression()"
   ]
  },
  {
   "cell_type": "code",
   "execution_count": 7,
   "metadata": {},
   "outputs": [
    {
     "data": {
      "text/plain": [
       "Index(['city', 'road_length', 'level', 'lat', 'lon', 'county', 'salary',\n",
       "       'happy', 'bars', 'hotels', 'area', 'vvp', 'population', 'humidity',\n",
       "       'life', 'density', 'cold_temp_3', 'warm_temp_3', 'avg_temp', 'rain',\n",
       "       'bol_all', 'koyki_all', 'alkashka', 'avg_temp_3'],\n",
       "      dtype='object')"
      ]
     },
     "execution_count": 7,
     "metadata": {},
     "output_type": "execute_result"
    }
   ],
   "source": [
    "df.columns"
   ]
  },
  {
   "cell_type": "code",
   "execution_count": 20,
   "metadata": {},
   "outputs": [],
   "source": [
    "cols = ['road_length', 'salary',\n",
    "       'happy', 'bars', 'hotels', 'area', 'vvp', 'population', 'humidity',\n",
    "       'life', 'density', 'cold_temp_3', 'warm_temp_3', 'avg_temp', 'rain',\n",
    "       'bol_all', 'koyki_all', 'alkashka']"
   ]
  },
  {
   "cell_type": "code",
   "execution_count": 21,
   "metadata": {},
   "outputs": [],
   "source": [
    "X = df[cols].values\n",
    "y = df.level.values"
   ]
  },
  {
   "cell_type": "code",
   "execution_count": 479,
   "metadata": {},
   "outputs": [
    {
     "name": "stdout",
     "output_type": "stream",
     "text": [
      "<class 'pandas.core.frame.DataFrame'>\n",
      "Index: 61 entries, Архангельск to Ярославль\n",
      "Columns: 120 entries, Естественный прирост населения  за 2017 to alkashka\n",
      "dtypes: float64(107), object(13)\n",
      "memory usage: 60.2+ KB\n"
     ]
    }
   ],
   "source": [
    "df.info()"
   ]
  },
  {
   "cell_type": "code",
   "execution_count": 54,
   "metadata": {},
   "outputs": [
    {
     "name": "stdout",
     "output_type": "stream",
     "text": [
      "0.9217010183233673\n",
      "0.22119629085620263\n",
      "0.08655996299813076\n",
      "0.03523712661945854\n",
      "0.011298460584561526\n",
      "0.00029216899691173544\n",
      "alpha [3.60202914e+03 1.00000000e+06 1.00000000e+06 5.93762570e+01\n",
      " 1.31628217e+05 2.62218312e+04 1.00000000e+06 1.00000000e+06\n",
      " 1.00000000e+06 2.01808827e+01 2.80128177e+01 1.00000000e+06\n",
      " 1.83758392e+01 7.08377187e+02 4.15524055e+01 2.60445904e+04\n",
      " 3.59698972e+02 1.00000000e+06 1.98257035e+02]\n",
      "0.4281390969649959\n",
      "0.1263267419979125\n",
      "0.035084867346672814\n",
      "0.0028471088248507733\n",
      "0.0001541094596700104\n",
      "alpha [1.00000000e+06 1.00000000e+06 1.00000000e+06 1.23272369e+02\n",
      " 1.00000000e+06 2.42038812e+05 1.00000000e+06 1.00000000e+06\n",
      " 1.00000000e+06 5.69161119e+01 1.01521885e+02 1.00000000e+06\n",
      " 5.21172316e+01 1.00000000e+06 1.37259328e+03 7.04798879e+04\n",
      " 7.88873779e+02 1.00000000e+06 3.53120537e+02]\n",
      "0.3441581898573352\n",
      "0.07480577697297694\n",
      "0.012409863039242729\n",
      "0.00039604951924820193\n",
      "alpha [1.00000000e+06 1.00000000e+06 1.00000000e+06 1.82836664e+02\n",
      " 1.00000000e+06 1.00000000e+06 1.00000000e+06 1.00000000e+06\n",
      " 1.00000000e+06 1.35609458e+02 2.55390298e+02 1.00000000e+06\n",
      " 6.14275257e+01 1.00000000e+06 8.79163093e+04 1.34024819e+05\n",
      " 1.08870279e+03 1.00000000e+06 5.37939079e+02]\n",
      "0.27972022924464307\n",
      "0.05556787813029269\n",
      "0.00756380191539243\n",
      "0.00030245034959949573\n",
      "alpha [1.00000000e+06 1.00000000e+06 1.00000000e+06 2.48095806e+02\n",
      " 1.00000000e+06 1.00000000e+06 1.00000000e+06 1.00000000e+06\n",
      " 1.00000000e+06 3.65966180e+02 8.60334703e+02 1.00000000e+06\n",
      " 6.35066622e+01 1.00000000e+06 1.00000000e+06 2.75262348e+05\n",
      " 1.35544767e+03 1.00000000e+06 7.32195502e+02]\n",
      "0.22530758732804368\n",
      "0.048110418647276804\n",
      "0.00582644664805494\n",
      "0.0002637677066993102\n",
      "alpha [1.00000000e+06 1.00000000e+06 1.00000000e+06 3.37323028e+02\n",
      " 1.00000000e+06 1.00000000e+06 1.00000000e+06 1.00000000e+06\n",
      " 1.00000000e+06 1.63016788e+03 6.74529010e+03 1.00000000e+06\n",
      " 6.22947739e+01 1.00000000e+06 1.00000000e+06 7.65994535e+05\n",
      " 1.60586882e+03 1.00000000e+06 9.42189145e+02]\n",
      "0.19122550363971372\n",
      "0.042839082034637224\n",
      "0.0050241256159395085\n",
      "0.0002639293845155945\n",
      "alpha [1.00000000e+06 1.00000000e+06 1.00000000e+06 5.04267915e+02\n",
      " 1.00000000e+06 1.00000000e+06 1.00000000e+06 1.00000000e+06\n",
      " 1.00000000e+06 2.20956186e+04 3.98689550e+05 1.00000000e+06\n",
      " 5.78704112e+01 1.00000000e+06 1.00000000e+06 1.00000000e+06\n",
      " 1.83259492e+03 1.00000000e+06 1.15946288e+03]\n",
      "0.1743439405535461\n",
      "0.04017034600001204\n",
      "0.004815251567145839\n",
      "0.0002622997052780271\n",
      "alpha [1.00000000e+06 1.00000000e+06 1.00000000e+06 8.74995080e+02\n",
      " 1.00000000e+06 1.00000000e+06 1.00000000e+06 1.00000000e+06\n",
      " 1.00000000e+06 1.00000000e+06 1.00000000e+06 1.00000000e+06\n",
      " 5.55699298e+01 1.00000000e+06 1.00000000e+06 1.00000000e+06\n",
      " 2.03514820e+03 1.00000000e+06 1.37190905e+03]\n",
      "0.16275375620150426\n",
      "0.03815967476596202\n",
      "0.0046473569653289\n",
      "0.0002478051113207382\n",
      "alpha [1.00000000e+06 1.00000000e+06 1.00000000e+06 1.74390724e+03\n",
      " 1.00000000e+06 1.00000000e+06 1.00000000e+06 1.00000000e+06\n",
      " 1.00000000e+06 1.00000000e+06 1.00000000e+06 1.00000000e+06\n",
      " 5.47018712e+01 1.00000000e+06 1.00000000e+06 1.00000000e+06\n",
      " 2.25458908e+03 1.00000000e+06 1.78451538e+03]\n",
      "0.15000030682333096\n",
      "0.036222562918198656\n",
      "0.004429412568419629\n",
      "0.00023250164887512906\n",
      "alpha [1.00000000e+06 1.00000000e+06 1.00000000e+06 5.03812052e+03\n",
      " 1.00000000e+06 1.00000000e+06 1.00000000e+06 1.00000000e+06\n",
      " 1.00000000e+06 1.00000000e+06 1.00000000e+06 1.00000000e+06\n",
      " 5.47573902e+01 1.00000000e+06 1.00000000e+06 1.00000000e+06\n",
      " 2.47430440e+03 1.00000000e+06 2.59601273e+03]\n",
      "0.13707795775456058\n",
      "0.03469081212625447\n",
      "0.004167908867204901\n",
      "0.0002187663084411082\n",
      "alpha [1.00000000e+06 1.00000000e+06 1.00000000e+06 3.51305168e+04\n",
      " 1.00000000e+06 1.00000000e+06 1.00000000e+06 1.00000000e+06\n",
      " 1.00000000e+06 1.00000000e+06 1.00000000e+06 1.00000000e+06\n",
      " 5.56518879e+01 1.00000000e+06 1.00000000e+06 1.00000000e+06\n",
      " 2.65933249e+03 1.00000000e+06 4.25270921e+03]\n",
      "0.12777798144393648\n",
      "0.03283714893798588\n",
      "0.0037995449406329966\n",
      "0.0002134621029830453\n",
      "alpha [1.00000000e+06 1.00000000e+06 1.00000000e+06 1.00000000e+06\n",
      " 1.00000000e+06 1.00000000e+06 1.00000000e+06 1.00000000e+06\n",
      " 1.00000000e+06 1.00000000e+06 1.00000000e+06 1.00000000e+06\n",
      " 5.78576783e+01 1.00000000e+06 1.00000000e+06 1.00000000e+06\n",
      " 2.75307774e+03 1.00000000e+06 7.66622326e+03]\n",
      "0.12214635989322697\n",
      "0.030507454510601807\n",
      "0.00338457746144498\n",
      "0.0002188253143347174\n",
      "alpha [1.00000000e+06 1.00000000e+06 1.00000000e+06 1.00000000e+06\n",
      " 1.00000000e+06 1.00000000e+06 1.00000000e+06 1.00000000e+06\n",
      " 1.00000000e+06 1.00000000e+06 1.00000000e+06 1.00000000e+06\n",
      " 6.18069422e+01 1.00000000e+06 1.00000000e+06 1.00000000e+06\n",
      " 2.68481153e+03 1.00000000e+06 1.59646702e+04]\n",
      "0.11688959664315302\n",
      "0.02833230061037546\n",
      "0.0030310980325249657\n",
      "0.00022647713102907547\n",
      "alpha [1.00000000e+06 1.00000000e+06 1.00000000e+06 1.00000000e+06\n",
      " 1.00000000e+06 1.00000000e+06 1.00000000e+06 1.00000000e+06\n",
      " 1.00000000e+06 1.00000000e+06 1.00000000e+06 1.00000000e+06\n",
      " 6.74010163e+01 1.00000000e+06 1.00000000e+06 1.00000000e+06\n",
      " 2.41223469e+03 1.00000000e+06 4.84426470e+04]\n",
      "0.11204776554978982\n",
      "0.026687688573972048\n",
      "0.0027907167595630222\n",
      "0.00023245927945731248\n",
      "alpha [1.00000000e+06 1.00000000e+06 1.00000000e+06 1.00000000e+06\n",
      " 1.00000000e+06 1.00000000e+06 1.00000000e+06 1.00000000e+06\n",
      " 1.00000000e+06 1.00000000e+06 1.00000000e+06 1.00000000e+06\n",
      " 7.45627879e+01 1.00000000e+06 1.00000000e+06 1.00000000e+06\n",
      " 1.96619820e+03 1.00000000e+06 3.53737843e+05]\n",
      "0.1091353065489207\n",
      "0.025892845390347974\n",
      "0.0026753216834201907\n",
      "0.00023279647049083242\n",
      "alpha [1.00000000e+06 1.00000000e+06 1.00000000e+06 1.00000000e+06\n",
      " 1.00000000e+06 1.00000000e+06 1.00000000e+06 1.00000000e+06\n",
      " 1.00000000e+06 1.00000000e+06 1.00000000e+06 1.00000000e+06\n",
      " 8.27799329e+01 1.00000000e+06 1.00000000e+06 1.00000000e+06\n",
      " 1.46842278e+03 1.00000000e+06 1.00000000e+06]\n",
      "0.10819360813871062\n",
      "0.02595390608252378\n",
      "0.0027085008937101918\n",
      "0.0002275518068639435\n",
      "alpha [1.00000000e+06 1.00000000e+06 1.00000000e+06 1.00000000e+06\n",
      " 1.00000000e+06 1.00000000e+06 1.00000000e+06 1.00000000e+06\n",
      " 1.00000000e+06 1.00000000e+06 1.00000000e+06 1.00000000e+06\n",
      " 9.19307448e+01 1.00000000e+06 1.00000000e+06 1.00000000e+06\n",
      " 1.04028341e+03 1.00000000e+06 1.00000000e+06]\n",
      "0.10760743432663855\n",
      "0.026528008411669045\n",
      "0.002871997768360792\n",
      "0.00022031143522571392\n",
      "alpha [1.00000000e+06 1.00000000e+06 1.00000000e+06 1.00000000e+06\n",
      " 1.00000000e+06 1.00000000e+06 1.00000000e+06 1.00000000e+06\n",
      " 1.00000000e+06 1.00000000e+06 1.00000000e+06 1.00000000e+06\n",
      " 1.03180174e+02 1.00000000e+06 1.00000000e+06 1.00000000e+06\n",
      " 7.31177133e+02 1.00000000e+06 1.00000000e+06]\n",
      "0.10682797907708556\n",
      "0.027205671981046106\n",
      "0.00310538042909198\n",
      "0.0002081402981616219\n",
      "alpha [1.00000000e+06 1.00000000e+06 1.00000000e+06 1.00000000e+06\n",
      " 1.00000000e+06 1.00000000e+06 1.00000000e+06 1.00000000e+06\n",
      " 1.00000000e+06 1.00000000e+06 1.00000000e+06 1.00000000e+06\n",
      " 1.17088594e+02 1.00000000e+06 1.00000000e+06 1.00000000e+06\n",
      " 5.37790882e+02 1.00000000e+06 1.00000000e+06]\n",
      "0.10565326170762855\n",
      "0.027554508446585618\n",
      "0.0033056208386328125\n",
      "0.0001892378981995063\n",
      "alpha [1.00000000e+06 1.00000000e+06 1.00000000e+06 1.00000000e+06\n",
      " 1.00000000e+06 1.00000000e+06 1.00000000e+06 1.00000000e+06\n",
      " 1.00000000e+06 1.00000000e+06 1.00000000e+06 1.00000000e+06\n",
      " 1.33419523e+02 1.00000000e+06 1.00000000e+06 1.00000000e+06\n",
      " 4.28386731e+02 1.00000000e+06 1.00000000e+06]\n",
      "0.10410222215586476\n",
      "0.027383131893234335\n",
      "0.0033917004580105423\n",
      "0.00016689235592019696\n",
      "alpha [1.00000000e+06 1.00000000e+06 1.00000000e+06 1.00000000e+06\n",
      " 1.00000000e+06 1.00000000e+06 1.00000000e+06 1.00000000e+06\n",
      " 1.00000000e+06 1.00000000e+06 1.00000000e+06 1.00000000e+06\n",
      " 1.51633908e+02 1.00000000e+06 1.00000000e+06 1.00000000e+06\n",
      " 3.69481528e+02 1.00000000e+06 1.00000000e+06]\n",
      "0.10231184396404784\n",
      "0.02678297895045373\n",
      "0.0033608761825523518\n",
      "0.00014575689224831856\n",
      "alpha [1.00000000e+06 1.00000000e+06 1.00000000e+06 1.00000000e+06\n",
      " 1.00000000e+06 1.00000000e+06 1.00000000e+06 1.00000000e+06\n",
      " 1.00000000e+06 1.00000000e+06 1.00000000e+06 1.00000000e+06\n",
      " 1.71425506e+02 1.00000000e+06 1.00000000e+06 1.00000000e+06\n",
      " 3.37694867e+02 1.00000000e+06 1.00000000e+06]\n",
      "0.10040367095559828\n",
      "0.02594165364254255\n",
      "0.0032562487109399026\n",
      "0.00012782572745314848\n",
      "alpha [1.00000000e+06 1.00000000e+06 1.00000000e+06 1.00000000e+06\n",
      " 1.00000000e+06 1.00000000e+06 1.00000000e+06 1.00000000e+06\n",
      " 1.00000000e+06 1.00000000e+06 1.00000000e+06 1.00000000e+06\n",
      " 1.92965261e+02 1.00000000e+06 1.00000000e+06 1.00000000e+06\n",
      " 3.19591576e+02 1.00000000e+06 1.00000000e+06]\n",
      "0.0984321376998021\n",
      "0.024995544294667733\n",
      "0.003118387366784845\n",
      "0.00011282501488187545\n",
      "alpha [1.00000000e+06 1.00000000e+06 1.00000000e+06 1.00000000e+06\n",
      " 1.00000000e+06 1.00000000e+06 1.00000000e+06 1.00000000e+06\n",
      " 1.00000000e+06 1.00000000e+06 1.00000000e+06 1.00000000e+06\n",
      " 2.16954730e+02 1.00000000e+06 1.00000000e+06 1.00000000e+06\n",
      " 3.08167577e+02 1.00000000e+06 1.00000000e+06]\n",
      "0.09639170386886975\n",
      "0.02400897619685969\n",
      "0.0029703756315673227\n",
      "9.979306655093922e-05\n",
      "alpha [1.00000000e+06 1.00000000e+06 1.00000000e+06 1.00000000e+06\n",
      " 1.00000000e+06 1.00000000e+06 1.00000000e+06 1.00000000e+06\n",
      " 1.00000000e+06 1.00000000e+06 1.00000000e+06 1.00000000e+06\n",
      " 2.44709993e+02 1.00000000e+06 1.00000000e+06 1.00000000e+06\n",
      " 2.99921740e+02 1.00000000e+06 1.00000000e+06]\n",
      "0.0942348560532751\n",
      "0.022998352463334763\n",
      "0.002821857802544851\n",
      "9.128426962834896e-05\n",
      "alpha [1.00000000e+06 1.00000000e+06 1.00000000e+06 1.00000000e+06\n",
      " 1.00000000e+06 1.00000000e+06 1.00000000e+06 1.00000000e+06\n",
      " 1.00000000e+06 1.00000000e+06 1.00000000e+06 1.00000000e+06\n",
      " 2.78446529e+02 1.00000000e+06 1.00000000e+06 1.00000000e+06\n",
      " 2.93103462e+02 1.00000000e+06 1.00000000e+06]\n",
      "0.09188138281864548\n",
      "0.021953597514655587\n",
      "0.0026754967842733146\n",
      "8.499470766940774e-05\n",
      "alpha [1.00000000e+06 1.00000000e+06 1.00000000e+06 1.00000000e+06\n",
      " 1.00000000e+06 1.00000000e+06 1.00000000e+06 1.00000000e+06\n",
      " 1.00000000e+06 1.00000000e+06 1.00000000e+06 1.00000000e+06\n",
      " 3.21985433e+02 1.00000000e+06 1.00000000e+06 1.00000000e+06\n",
      " 2.86790400e+02 1.00000000e+06 1.00000000e+06]\n",
      "0.08921648504919051\n",
      "0.020852460364205173\n",
      "0.0025312988151050923\n",
      "7.887298773475655e-05\n",
      "alpha [1.00000000e+06 1.00000000e+06 1.00000000e+06 1.00000000e+06\n",
      " 1.00000000e+06 1.00000000e+06 1.00000000e+06 1.00000000e+06\n",
      " 1.00000000e+06 1.00000000e+06 1.00000000e+06 1.00000000e+06\n",
      " 3.82420361e+02 1.00000000e+06 1.00000000e+06 1.00000000e+06\n",
      " 2.80428232e+02 1.00000000e+06 1.00000000e+06]\n",
      "0.08607958293882072\n",
      "0.019668562848917923\n",
      "0.0023892389592102435\n",
      "7.291192228507293e-05\n",
      "alpha [1.00000000e+06 1.00000000e+06 1.00000000e+06 1.00000000e+06\n",
      " 1.00000000e+06 1.00000000e+06 1.00000000e+06 1.00000000e+06\n",
      " 1.00000000e+06 1.00000000e+06 1.00000000e+06 1.00000000e+06\n",
      " 4.74354823e+02 1.00000000e+06 1.00000000e+06 1.00000000e+06\n",
      " 2.73603391e+02 1.00000000e+06 1.00000000e+06]\n",
      "0.08224835299205555\n",
      "0.018380778161315513\n",
      "0.0022514440125349713\n",
      "6.721163381430875e-05\n",
      "alpha [1.00000000e+06 1.00000000e+06 1.00000000e+06 1.00000000e+06\n",
      " 1.00000000e+06 1.00000000e+06 1.00000000e+06 1.00000000e+06\n",
      " 1.00000000e+06 1.00000000e+06 1.00000000e+06 1.00000000e+06\n",
      " 6.32275414e+02 1.00000000e+06 1.00000000e+06 1.00000000e+06\n",
      " 2.65933471e+02 1.00000000e+06 1.00000000e+06]\n",
      "0.07745121107964906\n",
      "0.016993533287191713\n",
      "0.002125021364327917\n",
      "6.212193698402406e-05\n",
      "alpha [1.00000000e+06 1.00000000e+06 1.00000000e+06 1.00000000e+06\n",
      " 1.00000000e+06 1.00000000e+06 1.00000000e+06 1.00000000e+06\n",
      " 1.00000000e+06 1.00000000e+06 1.00000000e+06 1.00000000e+06\n",
      " 9.54662949e+02 1.00000000e+06 1.00000000e+06 1.00000000e+06\n",
      " 2.57043288e+02 1.00000000e+06 1.00000000e+06]\n",
      "0.0714378554055376\n",
      "0.01558236078240712\n",
      "0.0020256801159146526\n",
      "5.846561134872142e-05\n",
      "alpha [1.00000000e+06 1.00000000e+06 1.00000000e+06 1.00000000e+06\n",
      " 1.00000000e+06 1.00000000e+06 1.00000000e+06 1.00000000e+06\n",
      " 1.00000000e+06 1.00000000e+06 1.00000000e+06 1.00000000e+06\n",
      " 1.81408065e+03 1.00000000e+06 1.00000000e+06 1.00000000e+06\n",
      " 2.46693055e+02 1.00000000e+06 1.00000000e+06]\n",
      "0.06440862475117985\n",
      "0.014360218280477854\n",
      "0.001977704767554855\n",
      "5.7650529779419897e-05\n",
      "alpha [1.00000000e+06 1.00000000e+06 1.00000000e+06 1.00000000e+06\n",
      " 1.00000000e+06 1.00000000e+06 1.00000000e+06 1.00000000e+06\n",
      " 1.00000000e+06 1.00000000e+06 1.00000000e+06 1.00000000e+06\n",
      " 5.42913722e+03 1.00000000e+06 1.00000000e+06 1.00000000e+06\n",
      " 2.35277936e+02 1.00000000e+06 1.00000000e+06]\n",
      "0.0580140469259685\n",
      "0.01363979993301495\n",
      "0.0019954321011692155\n",
      "6.0675557241991724e-05\n",
      "alpha [1.00000000e+06 1.00000000e+06 1.00000000e+06 1.00000000e+06\n",
      " 1.00000000e+06 1.00000000e+06 1.00000000e+06 1.00000000e+06\n",
      " 1.00000000e+06 1.00000000e+06 1.00000000e+06 1.00000000e+06\n",
      " 4.17805310e+04 1.00000000e+06 1.00000000e+06 1.00000000e+06\n",
      " 2.24763652e+02 1.00000000e+06 1.00000000e+06]\n",
      "0.05491168381423474\n",
      "0.013496047428067242\n",
      "0.0020495010641766566\n",
      "6.564315396549524e-05\n",
      "alpha [1.00000000e+06 1.00000000e+06 1.00000000e+06 1.00000000e+06\n",
      " 1.00000000e+06 1.00000000e+06 1.00000000e+06 1.00000000e+06\n",
      " 1.00000000e+06 1.00000000e+06 1.00000000e+06 1.00000000e+06\n",
      " 1.00000000e+06 1.00000000e+06 1.00000000e+06 1.00000000e+06\n",
      " 2.18143083e+02 1.00000000e+06 1.00000000e+06]\n",
      "0.05456257192620022\n",
      "0.013587915406028035\n",
      "0.002090945572313761\n",
      "6.911584550889706e-05\n",
      "alpha [1.00000000e+06 1.00000000e+06 1.00000000e+06 1.00000000e+06\n",
      " 1.00000000e+06 1.00000000e+06 1.00000000e+06 1.00000000e+06\n",
      " 1.00000000e+06 1.00000000e+06 1.00000000e+06 1.00000000e+06\n",
      " 1.00000000e+06 1.00000000e+06 1.00000000e+06 1.00000000e+06\n",
      " 2.15537209e+02 1.00000000e+06 1.00000000e+06]\n",
      "0.054623337469366866\n",
      "0.013643569966842618\n",
      "0.002107919105870894\n",
      "7.050942420218777e-05\n",
      "alpha [1.00000000e+06 1.00000000e+06 1.00000000e+06 1.00000000e+06\n",
      " 1.00000000e+06 1.00000000e+06 1.00000000e+06 1.00000000e+06\n",
      " 1.00000000e+06 1.00000000e+06 1.00000000e+06 1.00000000e+06\n",
      " 1.00000000e+06 1.00000000e+06 1.00000000e+06 1.00000000e+06\n",
      " 2.14696864e+02 1.00000000e+06 1.00000000e+06]\n",
      "0.05464296276326024\n",
      "0.013661590398825455\n",
      "0.002113433128936257\n",
      "7.09638767482828e-05\n",
      "alpha [1.00000e+06 1.00000e+06 1.00000e+06 1.00000e+06 1.00000e+06 1.00000e+06\n",
      " 1.00000e+06 1.00000e+06 1.00000e+06 1.00000e+06 1.00000e+06 1.00000e+06\n",
      " 1.00000e+06 1.00000e+06 1.00000e+06 1.00000e+06 2.14426e+02 1.00000e+06\n",
      " 1.00000e+06]\n",
      "0.054649291559929175\n",
      "0.013667406436630785\n",
      "0.002115214660346843\n",
      "7.111088782833802e-05\n",
      "alpha [1.00000000e+06 1.00000000e+06 1.00000000e+06 1.00000000e+06\n",
      " 1.00000000e+06 1.00000000e+06 1.00000000e+06 1.00000000e+06\n",
      " 1.00000000e+06 1.00000000e+06 1.00000000e+06 1.00000000e+06\n",
      " 1.00000000e+06 1.00000000e+06 1.00000000e+06 1.00000000e+06\n",
      " 2.14338708e+02 1.00000000e+06 1.00000000e+06]\n",
      "0.054651331489850186\n",
      "0.013669281588571886\n",
      "0.0021157892423820817\n",
      "7.11583209498376e-05\n",
      "alpha [1.00000000e+06 1.00000000e+06 1.00000000e+06 1.00000000e+06\n",
      " 1.00000000e+06 1.00000000e+06 1.00000000e+06 1.00000000e+06\n",
      " 1.00000000e+06 1.00000000e+06 1.00000000e+06 1.00000000e+06\n",
      " 1.00000000e+06 1.00000000e+06 1.00000000e+06 1.00000000e+06\n",
      " 2.14310577e+02 1.00000000e+06 1.00000000e+06]\n",
      "0.05465198890753972\n",
      "0.0136698859541395\n",
      "0.0021159744519512755\n",
      "7.117361240724784e-05\n",
      "alpha [1.00000000e+06 1.00000000e+06 1.00000000e+06 1.00000000e+06\n",
      " 1.00000000e+06 1.00000000e+06 1.00000000e+06 1.00000000e+06\n",
      " 1.00000000e+06 1.00000000e+06 1.00000000e+06 1.00000000e+06\n",
      " 1.00000000e+06 1.00000000e+06 1.00000000e+06 1.00000000e+06\n",
      " 2.14301512e+02 1.00000000e+06 1.00000000e+06]\n",
      "0.054652200765900445\n",
      "0.013670080721371804\n",
      "0.0021160341410648756\n",
      "7.117854072326441e-05\n",
      "alpha [1.00000000e+06 1.00000000e+06 1.00000000e+06 1.00000000e+06\n",
      " 1.00000000e+06 1.00000000e+06 1.00000000e+06 1.00000000e+06\n",
      " 1.00000000e+06 1.00000000e+06 1.00000000e+06 1.00000000e+06\n",
      " 1.00000000e+06 1.00000000e+06 1.00000000e+06 1.00000000e+06\n",
      " 2.14298591e+02 1.00000000e+06 1.00000000e+06]\n",
      "0.054652269037928226\n",
      "0.013670143486287464\n",
      "0.002116053376460842\n",
      "7.118012894216873e-05\n",
      "alpha [1.00000000e+06 1.00000000e+06 1.00000000e+06 1.00000000e+06\n",
      " 1.00000000e+06 1.00000000e+06 1.00000000e+06 1.00000000e+06\n",
      " 1.00000000e+06 1.00000000e+06 1.00000000e+06 1.00000000e+06\n",
      " 1.00000000e+06 1.00000000e+06 1.00000000e+06 1.00000000e+06\n",
      " 2.14297649e+02 1.00000000e+06 1.00000000e+06]\n",
      "1.711042856898239e-05\n"
     ]
    }
   ],
   "source": [
    "w, sigma = lr._fit(np.hstack([np.ones((61,1)), X]), values)"
   ]
  },
  {
   "cell_type": "code",
   "execution_count": 55,
   "metadata": {},
   "outputs": [
    {
     "data": {
      "text/plain": [
       "(array([-1.86858330e-07, -2.48948722e-06, -9.07296686e-05, -2.80180908e-05,\n",
       "         6.97674779e-05, -3.14361086e-04,  2.40354333e-05,  3.84884172e-06,\n",
       "         7.71790929e-07, -5.94937668e-06, -2.18638384e-05,  3.46030290e-04,\n",
       "        -2.75504653e-05, -9.25925428e-06, -1.72452385e-05, -7.27451653e-04,\n",
       "         6.83217445e-02, -2.90707512e-04,  3.02776751e-05]),\n",
       " array([9.99999667e-07, 3.73643797e-09, 2.75787282e-09, 9.98980466e-07,\n",
       "        5.65162972e-07, 9.40181118e-07, 1.01114112e-09, 6.06641866e-12,\n",
       "        1.37471662e-12, 9.97874362e-07, 9.98142110e-07, 7.49600170e-08,\n",
       "        9.99765245e-07, 9.99789337e-07, 9.99877567e-07, 6.91768488e-07,\n",
       "        7.52526839e-04, 1.32589095e-08, 9.96147141e-07]))"
      ]
     },
     "execution_count": 55,
     "metadata": {},
     "output_type": "execute_result"
    }
   ],
   "source": [
    "w, sigma"
   ]
  },
  {
   "cell_type": "code",
   "execution_count": 56,
   "metadata": {},
   "outputs": [],
   "source": [
    "from sklearn.linear_model import LogisticRegression"
   ]
  },
  {
   "cell_type": "code",
   "execution_count": 96,
   "metadata": {},
   "outputs": [
    {
     "data": {
      "text/plain": [
       "LogisticRegression(max_iter=10000)"
      ]
     },
     "execution_count": 96,
     "metadata": {},
     "output_type": "execute_result"
    }
   ],
   "source": [
    "lr = LogisticRegression(max_iter=10000)\n",
    "lr.fit(X, values)"
   ]
  },
  {
   "cell_type": "code",
   "execution_count": 60,
   "metadata": {},
   "outputs": [
    {
     "data": {
      "text/plain": [
       "array([6.13203691e-01, 4.80649040e-01, 4.99977090e-01, 2.52323228e-01,\n",
       "       6.24618984e-01, 4.11685317e-01, 6.44439138e-01, 8.34910233e-01,\n",
       "       6.41753558e-01, 5.29035553e-01, 8.21805348e-01, 3.08044238e-01,\n",
       "       6.32899656e-01, 5.60186372e-01, 4.43668044e-01, 4.93133851e-01,\n",
       "       4.74389650e-01, 9.35418860e-01, 5.65494895e-01, 3.23739485e-01,\n",
       "       8.97238645e-01, 1.00905001e-01, 4.15818677e-01, 3.51383246e-01,\n",
       "       6.50185841e-01, 9.88447326e-01, 5.14947673e-01, 7.28035609e-01,\n",
       "       2.20487070e-01, 5.99643954e-01, 2.49567359e-01, 5.80134823e-01,\n",
       "       2.98736248e-01, 4.78716713e-01, 3.24574376e-01, 6.31207174e-01,\n",
       "       8.57162528e-01, 7.10448507e-01, 9.35921318e-01, 4.48665085e-01,\n",
       "       4.62320997e-01, 4.58947387e-03, 4.12499840e-01, 6.35277420e-01,\n",
       "       5.66789247e-01, 7.29985576e-01, 7.40613574e-05, 4.40207579e-01,\n",
       "       6.05480440e-01, 6.53707559e-01, 4.93416521e-01, 4.51804611e-01,\n",
       "       3.35485906e-01, 6.31228274e-01, 5.78327570e-01, 5.94629701e-02,\n",
       "       3.75304449e-01, 7.06067287e-01, 1.25829893e-01, 1.60943141e-01,\n",
       "       8.60726111e-01])"
      ]
     },
     "execution_count": 60,
     "metadata": {},
     "output_type": "execute_result"
    }
   ],
   "source": [
    "lr.predict_proba(X)[:, 0]"
   ]
  },
  {
   "cell_type": "code",
   "execution_count": 95,
   "metadata": {},
   "outputs": [],
   "source": [
    "values = ((df.set_index(\"city\").level.loc[list(X.index)] > np.median(df.set_index(\"city\").level.loc[list(X.index)]))*1 - 0.5 ) * 2"
   ]
  },
  {
   "cell_type": "code",
   "execution_count": 48,
   "metadata": {},
   "outputs": [
    {
     "data": {
      "text/plain": [
       "array(['bol_all'], dtype='<U11')"
      ]
     },
     "execution_count": 48,
     "metadata": {},
     "output_type": "execute_result"
    }
   ],
   "source": [
    "np.array(cols)[w > 1e-3]"
   ]
  },
  {
   "cell_type": "code",
   "execution_count": 38,
   "metadata": {},
   "outputs": [],
   "source": [
    "xw  = np.dot(X, w)\n",
    "s   = expit(xw * y)"
   ]
  },
  {
   "cell_type": "code",
   "execution_count": 41,
   "metadata": {},
   "outputs": [],
   "source": [
    "from sklearn.metrics import roc_auc_score"
   ]
  },
  {
   "cell_type": "code",
   "execution_count": 43,
   "metadata": {},
   "outputs": [
    {
     "data": {
      "text/plain": [
       "array([28.12908448, 29.78337812, 44.72046319, 22.8376876 , 35.55549082,\n",
       "       32.11381162, 25.78590066, 17.87649869, 24.15640771, 39.05580446,\n",
       "       21.63723001, 36.7497794 , 16.67894545, 34.15005372, 37.58717017,\n",
       "       32.06602318, 27.18349632, 27.39033293, 22.77074813, 24.79272747,\n",
       "        4.5523619 , 20.77060606, 30.52628954, 32.10796115, 24.43314831,\n",
       "       16.49849985, 24.57109919, 35.85019548, 36.29149798, 20.71643044,\n",
       "       28.41519026, 34.35391687, 31.17711864,  7.07639961, 35.54884541,\n",
       "       29.8907153 , 14.73744407, 26.40244334, 17.8752329 , 25.26511861,\n",
       "       18.55948164, 32.64179876, 27.203409  , 16.82753072, 21.89979637,\n",
       "       35.11852253, 28.10127447, 55.93840859, 33.30193913, 25.76561239,\n",
       "       21.77189289,  2.94406093, 45.07618948, 22.91615486, 29.78340441,\n",
       "       34.43856765, 37.28946664,  3.13698641, 31.05533388, 34.76402878,\n",
       "       22.45999875])"
      ]
     },
     "execution_count": 43,
     "metadata": {},
     "output_type": "execute_result"
    }
   ],
   "source": [
    "y"
   ]
  },
  {
   "cell_type": "code",
   "execution_count": 98,
   "metadata": {},
   "outputs": [
    {
     "data": {
      "text/plain": [
       "0.7566666666666667"
      ]
     },
     "execution_count": 98,
     "metadata": {},
     "output_type": "execute_result"
    }
   ],
   "source": [
    "roc_auc_score(values, lr.predict_proba(X)[:, 1])"
   ]
  },
  {
   "cell_type": "code",
   "execution_count": null,
   "metadata": {},
   "outputs": [],
   "source": []
  },
  {
   "cell_type": "code",
   "execution_count": 89,
   "metadata": {},
   "outputs": [],
   "source": [
    "marshrutrki = pd.read_csv(\"marhrutki.csv\").set_index(\"City\")\n",
    "percents = marshrutrki.iloc[:, 1]\n",
    "res = []\n",
    "for p in percents:\n",
    "    res.append(float(p[:-1].replace(\" \", \"\")))\n",
    "marshrutrki.iloc[:, 1] = res\n",
    "\n",
    "res = []\n",
    "requests = marshrutrki.iloc[:, 0]\n",
    "for r in requests:\n",
    "    res.append(float(r.replace(\" \", \"\")))\n",
    "marshrutrki.iloc[:, 0] = res"
   ]
  },
  {
   "cell_type": "code",
   "execution_count": 92,
   "metadata": {},
   "outputs": [
    {
     "name": "stderr",
     "output_type": "stream",
     "text": [
      "/Users/anton/opt/anaconda3/lib/python3.7/site-packages/ipykernel_launcher.py:1: FutureWarning: \n",
      "Passing list-likes to .loc or [] with any missing label will raise\n",
      "KeyError in the future, you can use .reindex() as an alternative.\n",
      "\n",
      "See the documentation here:\n",
      "https://pandas.pydata.org/pandas-docs/stable/user_guide/indexing.html#deprecate-loc-reindex-listlike\n",
      "  \"\"\"Entry point for launching an IPython kernel.\n"
     ]
    }
   ],
   "source": [
    "X = pd.concat([df.set_index(\"city\"), marshrutrki.loc[df[\"city\"]]], axis=1).drop([\"lat\", \"level\", \"lon\", \"county\", \"salary\", \"avg_temp_3\"], axis=1).dropna()"
   ]
  },
  {
   "cell_type": "code",
   "execution_count": 35,
   "metadata": {},
   "outputs": [
    {
     "ename": "AttributeError",
     "evalue": "'VetrovLogisticRegression' object has no attribute 'coef_'",
     "output_type": "error",
     "traceback": [
      "\u001b[0;31m---------------------------------------------------------------------------\u001b[0m",
      "\u001b[0;31mAttributeError\u001b[0m                            Traceback (most recent call last)",
      "\u001b[0;32m<ipython-input-35-f8f9ae1ce692>\u001b[0m in \u001b[0;36m<module>\u001b[0;34m\u001b[0m\n\u001b[0;32m----> 1\u001b[0;31m \u001b[0mw\u001b[0m\u001b[0;34m,\u001b[0m \u001b[0msigma\u001b[0m \u001b[0;34m=\u001b[0m \u001b[0mlr\u001b[0m\u001b[0;34m.\u001b[0m\u001b[0m_predict_proba_lr\u001b[0m\u001b[0;34m(\u001b[0m\u001b[0mX\u001b[0m\u001b[0;34m)\u001b[0m\u001b[0;34m\u001b[0m\u001b[0;34m\u001b[0m\u001b[0m\n\u001b[0m",
      "\u001b[0;32m~/opt/anaconda3/lib/python3.7/site-packages/sklearn/linear_model/_base.py\u001b[0m in \u001b[0;36m_predict_proba_lr\u001b[0;34m(self, X)\u001b[0m\n\u001b[1;32m    319\u001b[0m         \u001b[0mmulticlass\u001b[0m \u001b[0;32mis\u001b[0m \u001b[0mhandled\u001b[0m \u001b[0mby\u001b[0m \u001b[0mnormalizing\u001b[0m \u001b[0mthat\u001b[0m \u001b[0mover\u001b[0m \u001b[0mall\u001b[0m \u001b[0mclasses\u001b[0m\u001b[0;34m.\u001b[0m\u001b[0;34m\u001b[0m\u001b[0;34m\u001b[0m\u001b[0m\n\u001b[1;32m    320\u001b[0m         \"\"\"\n\u001b[0;32m--> 321\u001b[0;31m         \u001b[0mprob\u001b[0m \u001b[0;34m=\u001b[0m \u001b[0mself\u001b[0m\u001b[0;34m.\u001b[0m\u001b[0mdecision_function\u001b[0m\u001b[0;34m(\u001b[0m\u001b[0mX\u001b[0m\u001b[0;34m)\u001b[0m\u001b[0;34m\u001b[0m\u001b[0;34m\u001b[0m\u001b[0m\n\u001b[0m\u001b[1;32m    322\u001b[0m         \u001b[0mexpit\u001b[0m\u001b[0;34m(\u001b[0m\u001b[0mprob\u001b[0m\u001b[0;34m,\u001b[0m \u001b[0mout\u001b[0m\u001b[0;34m=\u001b[0m\u001b[0mprob\u001b[0m\u001b[0;34m)\u001b[0m\u001b[0;34m\u001b[0m\u001b[0;34m\u001b[0m\u001b[0m\n\u001b[1;32m    323\u001b[0m         \u001b[0;32mif\u001b[0m \u001b[0mprob\u001b[0m\u001b[0;34m.\u001b[0m\u001b[0mndim\u001b[0m \u001b[0;34m==\u001b[0m \u001b[0;36m1\u001b[0m\u001b[0;34m:\u001b[0m\u001b[0;34m\u001b[0m\u001b[0;34m\u001b[0m\u001b[0m\n",
      "\u001b[0;32m~/opt/anaconda3/lib/python3.7/site-packages/sklearn/linear_model/_base.py\u001b[0m in \u001b[0;36mdecision_function\u001b[0;34m(self, X)\u001b[0m\n\u001b[1;32m    282\u001b[0m         \u001b[0mX\u001b[0m \u001b[0;34m=\u001b[0m \u001b[0mcheck_array\u001b[0m\u001b[0;34m(\u001b[0m\u001b[0mX\u001b[0m\u001b[0;34m,\u001b[0m \u001b[0maccept_sparse\u001b[0m\u001b[0;34m=\u001b[0m\u001b[0;34m'csr'\u001b[0m\u001b[0;34m)\u001b[0m\u001b[0;34m\u001b[0m\u001b[0;34m\u001b[0m\u001b[0m\n\u001b[1;32m    283\u001b[0m \u001b[0;34m\u001b[0m\u001b[0m\n\u001b[0;32m--> 284\u001b[0;31m         \u001b[0mn_features\u001b[0m \u001b[0;34m=\u001b[0m \u001b[0mself\u001b[0m\u001b[0;34m.\u001b[0m\u001b[0mcoef_\u001b[0m\u001b[0;34m.\u001b[0m\u001b[0mshape\u001b[0m\u001b[0;34m[\u001b[0m\u001b[0;36m1\u001b[0m\u001b[0;34m]\u001b[0m\u001b[0;34m\u001b[0m\u001b[0;34m\u001b[0m\u001b[0m\n\u001b[0m\u001b[1;32m    285\u001b[0m         \u001b[0;32mif\u001b[0m \u001b[0mX\u001b[0m\u001b[0;34m.\u001b[0m\u001b[0mshape\u001b[0m\u001b[0;34m[\u001b[0m\u001b[0;36m1\u001b[0m\u001b[0;34m]\u001b[0m \u001b[0;34m!=\u001b[0m \u001b[0mn_features\u001b[0m\u001b[0;34m:\u001b[0m\u001b[0;34m\u001b[0m\u001b[0;34m\u001b[0m\u001b[0m\n\u001b[1;32m    286\u001b[0m             raise ValueError(\"X has %d features per sample; expecting %d\"\n",
      "\u001b[0;31mAttributeError\u001b[0m: 'VetrovLogisticRegression' object has no attribute 'coef_'"
     ]
    }
   ],
   "source": [
    "w, sigma = lr._predict_proba_lr(X)"
   ]
  },
  {
   "cell_type": "code",
   "execution_count": null,
   "metadata": {},
   "outputs": [],
   "source": [
    "xw = np.dot(X, w)\n",
    "s  = expit(xw * y)"
   ]
  },
  {
   "cell_type": "code",
   "execution_count": 53,
   "metadata": {},
   "outputs": [
    {
     "data": {
      "text/plain": [
       "array([[1.00000000e+00, 1.90170000e+04, 3.97534927e+04, ...,\n",
       "        5.78965517e+01, 1.40419483e+04, 5.55000000e+01],\n",
       "       [1.00000000e+00, 4.17300000e+03, 2.70604571e+04, ...,\n",
       "        2.50000000e+01, 7.52200000e+03, 5.86000000e+01],\n",
       "       [1.00000000e+00, 2.05460000e+04, 2.11398281e+04, ...,\n",
       "        1.20000000e+02, 1.97820000e+04, 6.27000000e+01],\n",
       "       ...,\n",
       "       [1.00000000e+00, 2.97200000e+03, 6.24390146e+04, ...,\n",
       "        2.70000000e+01, 5.01400000e+03, 1.81000000e+01],\n",
       "       [1.00000000e+00, 2.26260000e+04, 5.65157356e+04, ...,\n",
       "        5.70000000e+01, 8.88200000e+03, 4.31000000e+01],\n",
       "       [1.00000000e+00, 9.05200000e+03, 2.78796106e+04, ...,\n",
       "        4.30000000e+01, 9.89700000e+03, 4.76000000e+01]])"
      ]
     },
     "execution_count": 53,
     "metadata": {},
     "output_type": "execute_result"
    }
   ],
   "source": []
  },
  {
   "cell_type": "code",
   "execution_count": 498,
   "metadata": {},
   "outputs": [],
   "source": [
    "df = pd.read_csv(\"super_puper_data_by_region.csv\").rename(columns={\"Unnamed: 0\" : \"city\"})"
   ]
  },
  {
   "cell_type": "code",
   "execution_count": 499,
   "metadata": {},
   "outputs": [],
   "source": [
    "df.loc[1, \"city\"] = \"Чукотский автономный округ\"\n",
    "df.loc[15, \"city\"] = \"Ямало-Ненецкий автономный округ\"\n",
    "df.loc[50, \"city\"] = \"Еврейская автономная область\"\n",
    "df.loc[53, \"city\"] = \"Санкт-Петербург\"\n",
    "df.loc[59, \"city\"] = \"Кабардино-Балкария\"\n",
    "df.loc[64, \"city\"] = \"Ханты-Мансийский автономный округ\""
   ]
  },
  {
   "cell_type": "code",
   "execution_count": 500,
   "metadata": {},
   "outputs": [
    {
     "data": {
      "text/plain": [
       "98"
      ]
     },
     "execution_count": 500,
     "metadata": {},
     "output_type": "execute_result"
    }
   ],
   "source": [
    "cols2017 = []\n",
    "for col in df.columns:\n",
    "    if col[-4:] == \"2017\":\n",
    "        cols2017.append(col)\n",
    "\n",
    "len(cols2017)"
   ]
  },
  {
   "cell_type": "code",
   "execution_count": 501,
   "metadata": {},
   "outputs": [],
   "source": [
    "mapping = pd.read_csv(\"leha_mapping_gorod_subyekt.csv\")"
   ]
  },
  {
   "cell_type": "code",
   "execution_count": 502,
   "metadata": {},
   "outputs": [
    {
     "name": "stderr",
     "output_type": "stream",
     "text": [
      "/Users/anton/opt/anaconda3/lib/python3.7/site-packages/ipykernel_launcher.py:2: FutureWarning: \n",
      "Passing list-likes to .loc or [] with any missing label will raise\n",
      "KeyError in the future, you can use .reindex() as an alternative.\n",
      "\n",
      "See the documentation here:\n",
      "https://pandas.pydata.org/pandas-docs/stable/user_guide/indexing.html#deprecate-loc-reindex-listlike\n",
      "  \n"
     ]
    }
   ],
   "source": [
    "counties= list(df.city)\n",
    "new_mapping = mapping.set_index(\"county\").loc[counties].dropna().reset_index()"
   ]
  },
  {
   "cell_type": "code",
   "execution_count": 503,
   "metadata": {},
   "outputs": [],
   "source": [
    "df = df.set_index(\"city\").loc[new_mapping.county.values, cols2017].reset_index()"
   ]
  },
  {
   "cell_type": "code",
   "execution_count": 504,
   "metadata": {},
   "outputs": [],
   "source": [
    "df[\"city\"] = new_mapping.city"
   ]
  },
  {
   "cell_type": "code",
   "execution_count": 505,
   "metadata": {},
   "outputs": [],
   "source": [
    "df = df.fillna(df.mean()).set_index(\"city\")"
   ]
  },
  {
   "cell_type": "code",
   "execution_count": 506,
   "metadata": {},
   "outputs": [],
   "source": [
    "old_dump = pd.read_csv(\"dump.csv\").rename(columns={\"Unnamed: 0\" : \"city\"}).drop([\"avg_temp_3\"], axis=1).set_index(\"city\")"
   ]
  },
  {
   "cell_type": "code",
   "execution_count": 507,
   "metadata": {},
   "outputs": [
    {
     "name": "stderr",
     "output_type": "stream",
     "text": [
      "/Users/anton/opt/anaconda3/lib/python3.7/site-packages/ipykernel_launcher.py:1: FutureWarning: Sorting because non-concatenation axis is not aligned. A future version\n",
      "of pandas will change to not sort by default.\n",
      "\n",
      "To accept the future behavior, pass 'sort=False'.\n",
      "\n",
      "To retain the current behavior and silence the warning, pass 'sort=True'.\n",
      "\n",
      "  \"\"\"Entry point for launching an IPython kernel.\n"
     ]
    }
   ],
   "source": [
    "df = pd.concat([df, old_dump], axis=1)"
   ]
  },
  {
   "cell_type": "code",
   "execution_count": 510,
   "metadata": {},
   "outputs": [
    {
     "name": "stdout",
     "output_type": "stream",
     "text": [
      "<class 'pandas.core.frame.DataFrame'>\n",
      "Index: 61 entries, Архангельск to Ярославль\n",
      "Columns: 120 entries, Естественный прирост населения  за 2017 to alkashka\n",
      "dtypes: float64(107), object(13)\n",
      "memory usage: 57.7+ KB\n"
     ]
    }
   ],
   "source": [
    "df.info()"
   ]
  },
  {
   "cell_type": "code",
   "execution_count": 509,
   "metadata": {},
   "outputs": [],
   "source": [
    "pd.set_option('display.max_rows', 150)"
   ]
  },
  {
   "cell_type": "code",
   "execution_count": 511,
   "metadata": {},
   "outputs": [],
   "source": [
    "columns = df.drop([\"lon\", \"level\", \"county\"], axis=1).columns.tolist()\n",
    "X = df.drop([\"lon\", \"level\", \"county\"], axis=1)\n",
    "y = df.level.values.copy()"
   ]
  },
  {
   "cell_type": "code",
   "execution_count": 512,
   "metadata": {},
   "outputs": [],
   "source": [
    "for i in range(X.shape[0]):\n",
    "    for j in range(X.shape[1]):\n",
    "        try:\n",
    "            float(X.iloc[i, j])\n",
    "        except:\n",
    "            X.iloc[i,j] = float(X.iloc[i, j].replace(\" \", \"\"))"
   ]
  },
  {
   "cell_type": "code",
   "execution_count": 515,
   "metadata": {},
   "outputs": [],
   "source": [
    "X.astype(float).to_csv(\"final_X.csv\")"
   ]
  },
  {
   "cell_type": "code",
   "execution_count": 516,
   "metadata": {},
   "outputs": [
    {
     "name": "stderr",
     "output_type": "stream",
     "text": [
      "/Users/anton/opt/anaconda3/lib/python3.7/site-packages/ipykernel_launcher.py:1: FutureWarning: The signature of `Series.to_csv` was aligned to that of `DataFrame.to_csv`, and argument 'header' will change its default value from False to True: please pass an explicit value to suppress this warning.\n",
      "  \"\"\"Entry point for launching an IPython kernel.\n"
     ]
    }
   ],
   "source": [
    "df.level.to_csv(\"final_y.csv\")"
   ]
  },
  {
   "cell_type": "code",
   "execution_count": 374,
   "metadata": {},
   "outputs": [],
   "source": [
    "X = np.array(X, dtype=float)\n"
   ]
  },
  {
   "cell_type": "code",
   "execution_count": 389,
   "metadata": {},
   "outputs": [],
   "source": [
    "X = (X - X.mean(axis=1, keepdims=True)) / X.std(axis=1, keepdims=True)"
   ]
  },
  {
   "cell_type": "code",
   "execution_count": 258,
   "metadata": {},
   "outputs": [
    {
     "name": "stdout",
     "output_type": "stream",
     "text": [
      "3.3198637424079607\n",
      "0.01988644114351697\n",
      "8.261162334416926e-06\n",
      "alpha [4.87664643e+01 2.35582085e+04 2.33581854e+04 2.31152877e+04\n",
      " 6.49439474e+04 7.96884725e+03 2.30829752e+04 2.32775620e+04\n",
      " 2.25763797e+04 2.51877964e+04 8.46648989e+04 2.35924900e+04\n",
      " 5.12538635e+04 2.11012022e+04 2.17286631e+04 2.08706768e+04\n",
      " 2.05746130e+04 2.11819169e+04 2.30376112e+04 2.39555403e+04\n",
      " 2.29135728e+04 2.22164725e+04 1.99434272e+04 1.96717210e+04\n",
      " 2.34750352e+04 2.33130001e+04 2.33034970e+04 2.33216787e+04\n",
      " 2.32123587e+04 2.34022028e+04 2.23076976e+04 2.32688429e+04\n",
      " 2.45996411e+04 3.58604797e+01 2.33587513e+04 2.32326655e+04\n",
      " 2.18689196e+01 2.33437719e+04 2.33673276e+04 3.59969473e+01\n",
      " 2.33206517e+04 2.15822155e+01 2.27920951e+04 2.38961662e+04\n",
      " 6.25756797e+02 2.32978248e+04 6.01969186e+01 5.00490934e+03\n",
      " 1.41094507e+03 2.53743590e+04 2.52446157e+04 2.20269119e+04\n",
      " 2.51333076e+04 2.47434409e+04 2.21959173e+04 2.10891916e+04\n",
      " 2.24183524e+04 2.15716671e+04 2.34385912e+04 2.35621446e+04\n",
      " 2.32827125e+04 2.27800423e+04 2.32201016e+04 2.33301774e+04\n",
      " 2.33169067e+04 2.38497373e+04 2.33003524e+04 2.31851068e+04\n",
      " 2.33120153e+04 2.24493311e+04 2.32702304e+04 2.33321689e+04\n",
      " 2.33246593e+04 2.32794289e+04 2.33017212e+04 2.33184750e+04\n",
      " 2.32662817e+04 2.33230968e+04 2.33107442e+04 2.32952863e+04\n",
      " 2.20061834e+04 2.33147557e+04 2.31753795e+04 2.32909708e+04\n",
      " 2.35575940e+04 2.29874217e+04 2.24709388e+04 2.35483755e+04\n",
      " 2.30301739e+04 2.28404304e+04 2.31656501e+04 2.18956358e+04\n",
      " 2.27991708e+04 2.25484504e+04 2.25869839e+04 2.29398251e+04\n",
      " 2.29398251e+04 2.44650850e+04 2.32251385e+04 3.22603265e+02\n",
      " 9.05952584e+01 2.46962712e+04 1.32487742e+04 2.60300157e+04\n",
      " 1.24703036e+01 8.44701074e+01 1.47833180e+02 2.28959274e+04\n",
      " 2.36071687e+04 1.08017056e+03 2.49910207e+04 2.33993799e+04\n",
      " 2.40882931e+04 1.00000000e+06 2.05758882e+04 9.09462166e+03\n",
      " 2.22707566e+04]\n",
      "0.1150079142115389\n",
      "6.494904998001742e-05\n",
      "alpha [1000000.         1000000.         1000000.         1000000.\n",
      " 1000000.         1000000.         1000000.         1000000.\n",
      " 1000000.         1000000.         1000000.         1000000.\n",
      " 1000000.         1000000.         1000000.         1000000.\n",
      " 1000000.         1000000.         1000000.         1000000.\n",
      " 1000000.         1000000.         1000000.         1000000.\n",
      " 1000000.         1000000.         1000000.         1000000.\n",
      " 1000000.         1000000.         1000000.         1000000.\n",
      " 1000000.           18715.22038127 1000000.         1000000.\n",
      "    4713.30165402 1000000.         1000000.           17848.22394407\n",
      " 1000000.            4411.95096925 1000000.         1000000.\n",
      " 1000000.         1000000.           86406.67222093 1000000.\n",
      " 1000000.         1000000.         1000000.         1000000.\n",
      " 1000000.         1000000.         1000000.         1000000.\n",
      " 1000000.         1000000.         1000000.         1000000.\n",
      " 1000000.         1000000.         1000000.         1000000.\n",
      " 1000000.         1000000.         1000000.         1000000.\n",
      " 1000000.         1000000.         1000000.         1000000.\n",
      " 1000000.         1000000.         1000000.         1000000.\n",
      " 1000000.         1000000.         1000000.         1000000.\n",
      " 1000000.         1000000.         1000000.         1000000.\n",
      " 1000000.         1000000.         1000000.         1000000.\n",
      " 1000000.         1000000.         1000000.         1000000.\n",
      " 1000000.         1000000.         1000000.         1000000.\n",
      " 1000000.         1000000.         1000000.         1000000.\n",
      "  362804.53542341 1000000.         1000000.         1000000.\n",
      "    1145.52972452    2112.36057139    8683.03202137 1000000.\n",
      " 1000000.         1000000.         1000000.         1000000.\n",
      " 1000000.         1000000.         1000000.         1000000.\n",
      " 1000000.        ]\n",
      "0.004494802669428247\n",
      "2.7171656367162657e-08\n",
      "alpha [1000000.         1000000.         1000000.         1000000.\n",
      " 1000000.         1000000.         1000000.         1000000.\n",
      " 1000000.         1000000.         1000000.         1000000.\n",
      " 1000000.         1000000.         1000000.         1000000.\n",
      " 1000000.         1000000.         1000000.         1000000.\n",
      " 1000000.         1000000.         1000000.         1000000.\n",
      " 1000000.         1000000.         1000000.         1000000.\n",
      " 1000000.         1000000.         1000000.         1000000.\n",
      " 1000000.         1000000.         1000000.         1000000.\n",
      " 1000000.         1000000.         1000000.         1000000.\n",
      " 1000000.         1000000.         1000000.         1000000.\n",
      " 1000000.         1000000.         1000000.         1000000.\n",
      " 1000000.         1000000.         1000000.         1000000.\n",
      " 1000000.         1000000.         1000000.         1000000.\n",
      " 1000000.         1000000.         1000000.         1000000.\n",
      " 1000000.         1000000.         1000000.         1000000.\n",
      " 1000000.         1000000.         1000000.         1000000.\n",
      " 1000000.         1000000.         1000000.         1000000.\n",
      " 1000000.         1000000.         1000000.         1000000.\n",
      " 1000000.         1000000.         1000000.         1000000.\n",
      " 1000000.         1000000.         1000000.         1000000.\n",
      " 1000000.         1000000.         1000000.         1000000.\n",
      " 1000000.         1000000.         1000000.         1000000.\n",
      " 1000000.         1000000.         1000000.         1000000.\n",
      " 1000000.         1000000.         1000000.         1000000.\n",
      " 1000000.         1000000.         1000000.         1000000.\n",
      " 1000000.           82481.34278993 1000000.         1000000.\n",
      " 1000000.         1000000.         1000000.         1000000.\n",
      " 1000000.         1000000.         1000000.         1000000.\n",
      " 1000000.        ]\n",
      "0.0001497503535891619\n",
      "alpha [1000000. 1000000. 1000000. 1000000. 1000000. 1000000. 1000000. 1000000.\n",
      " 1000000. 1000000. 1000000. 1000000. 1000000. 1000000. 1000000. 1000000.\n",
      " 1000000. 1000000. 1000000. 1000000. 1000000. 1000000. 1000000. 1000000.\n",
      " 1000000. 1000000. 1000000. 1000000. 1000000. 1000000. 1000000. 1000000.\n",
      " 1000000. 1000000. 1000000. 1000000. 1000000. 1000000. 1000000. 1000000.\n",
      " 1000000. 1000000. 1000000. 1000000. 1000000. 1000000. 1000000. 1000000.\n",
      " 1000000. 1000000. 1000000. 1000000. 1000000. 1000000. 1000000. 1000000.\n",
      " 1000000. 1000000. 1000000. 1000000. 1000000. 1000000. 1000000. 1000000.\n",
      " 1000000. 1000000. 1000000. 1000000. 1000000. 1000000. 1000000. 1000000.\n",
      " 1000000. 1000000. 1000000. 1000000. 1000000. 1000000. 1000000. 1000000.\n",
      " 1000000. 1000000. 1000000. 1000000. 1000000. 1000000. 1000000. 1000000.\n",
      " 1000000. 1000000. 1000000. 1000000. 1000000. 1000000. 1000000. 1000000.\n",
      " 1000000. 1000000. 1000000. 1000000. 1000000. 1000000. 1000000. 1000000.\n",
      " 1000000. 1000000. 1000000. 1000000. 1000000. 1000000. 1000000. 1000000.\n",
      " 1000000. 1000000. 1000000. 1000000. 1000000.]\n",
      "5.752138459660456e-05\n",
      "alpha [1000000. 1000000. 1000000. 1000000. 1000000. 1000000. 1000000. 1000000.\n",
      " 1000000. 1000000. 1000000. 1000000. 1000000. 1000000. 1000000. 1000000.\n",
      " 1000000. 1000000. 1000000. 1000000. 1000000. 1000000. 1000000. 1000000.\n",
      " 1000000. 1000000. 1000000. 1000000. 1000000. 1000000. 1000000. 1000000.\n",
      " 1000000. 1000000. 1000000. 1000000. 1000000. 1000000. 1000000. 1000000.\n",
      " 1000000. 1000000. 1000000. 1000000. 1000000. 1000000. 1000000. 1000000.\n",
      " 1000000. 1000000. 1000000. 1000000. 1000000. 1000000. 1000000. 1000000.\n",
      " 1000000. 1000000. 1000000. 1000000. 1000000. 1000000. 1000000. 1000000.\n",
      " 1000000. 1000000. 1000000. 1000000. 1000000. 1000000. 1000000. 1000000.\n",
      " 1000000. 1000000. 1000000. 1000000. 1000000. 1000000. 1000000. 1000000.\n",
      " 1000000. 1000000. 1000000. 1000000. 1000000. 1000000. 1000000. 1000000.\n",
      " 1000000. 1000000. 1000000. 1000000. 1000000. 1000000. 1000000. 1000000.\n",
      " 1000000. 1000000. 1000000. 1000000. 1000000. 1000000. 1000000. 1000000.\n",
      " 1000000. 1000000. 1000000. 1000000. 1000000. 1000000. 1000000. 1000000.\n",
      " 1000000. 1000000. 1000000. 1000000. 1000000.]\n",
      "2.0950881509068818e-16\n"
     ]
    }
   ],
   "source": [
    "lr = VetrovLogisticRegression()\n",
    "values = 2 * ((y > y.mean()) - 0.5)\n",
    "w, sigma = lr._fit(np.hstack([np.ones((61,1)), X]), values)"
   ]
  },
  {
   "cell_type": "code",
   "execution_count": 253,
   "metadata": {},
   "outputs": [
    {
     "data": {
      "text/plain": [
       "(61, 116)"
      ]
     },
     "execution_count": 253,
     "metadata": {},
     "output_type": "execute_result"
    }
   ],
   "source": [
    "X.shape"
   ]
  },
  {
   "cell_type": "code",
   "execution_count": 265,
   "metadata": {},
   "outputs": [
    {
     "data": {
      "text/plain": [
       "LogisticRegression(C=10)"
      ]
     },
     "execution_count": 265,
     "metadata": {},
     "output_type": "execute_result"
    }
   ],
   "source": [
    "from sklearn.linear_model import LogisticRegression\n",
    "lr = LogisticRegression(C=10)\n",
    "lr.fit(X, values)"
   ]
  },
  {
   "cell_type": "code",
   "execution_count": 268,
   "metadata": {},
   "outputs": [
    {
     "data": {
      "text/plain": [
       "0.6627155172413793"
      ]
     },
     "execution_count": 268,
     "metadata": {},
     "output_type": "execute_result"
    }
   ],
   "source": [
    "roc_auc_score(values, lr.predict_proba(X)[:, 1])"
   ]
  },
  {
   "cell_type": "code",
   "execution_count": 269,
   "metadata": {},
   "outputs": [],
   "source": [
    "from sklearn.manifold import TSNE"
   ]
  },
  {
   "cell_type": "code",
   "execution_count": 270,
   "metadata": {},
   "outputs": [],
   "source": [
    "tsne = TSNE(n_components=2)"
   ]
  },
  {
   "cell_type": "code",
   "execution_count": 271,
   "metadata": {},
   "outputs": [],
   "source": [
    "res = tsne.fit_transform(X)"
   ]
  },
  {
   "cell_type": "code",
   "execution_count": 275,
   "metadata": {},
   "outputs": [
    {
     "data": {
      "text/plain": [
       "<matplotlib.collections.PathCollection at 0x1a23cca750>"
      ]
     },
     "execution_count": 275,
     "metadata": {},
     "output_type": "execute_result"
    },
    {
     "data": {
      "image/png": "[encoded data removed]",
      "text/plain": [
       "<Figure size 432x288 with 1 Axes>"
      ]
     },
     "metadata": {
      "needs_background": "light"
     },
     "output_type": "display_data"
    }
   ],
   "source": [
    "import matplotlib.pyplot as plt\n",
    "plt.scatter(res[:, 0], res[:, 1], c=values)"
   ]
  },
  {
   "cell_type": "code",
   "execution_count": 404,
   "metadata": {},
   "outputs": [],
   "source": [
    "from sklearn.ensemble import RandomForestRegressor"
   ]
  },
  {
   "cell_type": "code",
   "execution_count": 411,
   "metadata": {},
   "outputs": [
    {
     "data": {
      "text/plain": [
       "RandomForestRegressor(max_depth=1)"
      ]
     },
     "execution_count": 411,
     "metadata": {},
     "output_type": "execute_result"
    }
   ],
   "source": [
    "rfr = RandomForestRegressor(max_depth=1, n_estimators=100)\n",
    "rfr.fit(X, y)"
   ]
  },
  {
   "cell_type": "code",
   "execution_count": 412,
   "metadata": {},
   "outputs": [],
   "source": [
    "from sklearn.metrics import r2_score, mean_absolute_error"
   ]
  },
  {
   "cell_type": "code",
   "execution_count": 413,
   "metadata": {},
   "outputs": [
    {
     "data": {
      "text/plain": [
       "0.17635540108601433"
      ]
     },
     "execution_count": 413,
     "metadata": {},
     "output_type": "execute_result"
    }
   ],
   "source": [
    "r2_score(y, rfr.predict(X))"
   ]
  },
  {
   "cell_type": "code",
   "execution_count": 326,
   "metadata": {},
   "outputs": [
    {
     "data": {
      "text/plain": [
       "6.225230914109191"
      ]
     },
     "execution_count": 326,
     "metadata": {},
     "output_type": "execute_result"
    }
   ],
   "source": [
    "mean_absolute_error(y, rfr.predict(X))"
   ]
  },
  {
   "cell_type": "code",
   "execution_count": 328,
   "metadata": {},
   "outputs": [],
   "source": [
    "fi = rfr.feature_importances_"
   ]
  },
  {
   "cell_type": "code",
   "execution_count": 414,
   "metadata": {},
   "outputs": [
    {
     "data": {
      "text/plain": [
       "array(['Численность населения за 2017', 'Процент с ожирением  за 2017',\n",
       "       'Смертность от болезней системы кровообращения  за 2017',\n",
       "       'Оборот общественного питания  за 2017',\n",
       "       'Потребление электроэнергии за 2017', 'road_length', 'area', 'vvp',\n",
       "       'population', 'density', 'rain', 'koyki_all'], dtype='<U102')"
      ]
     },
     "execution_count": 414,
     "metadata": {},
     "output_type": "execute_result"
    }
   ],
   "source": [
    "np.array(columns)[fi > np.percentile(fi, 90)]"
   ]
  },
  {
   "cell_type": "code",
   "execution_count": 336,
   "metadata": {},
   "outputs": [],
   "source": [
    "from sklearn.linear_model import ElasticNet"
   ]
  },
  {
   "cell_type": "code",
   "execution_count": 401,
   "metadata": {},
   "outputs": [
    {
     "data": {
      "text/plain": [
       "0.07846496179536377"
      ]
     },
     "execution_count": 401,
     "metadata": {},
     "output_type": "execute_result"
    }
   ],
   "source": [
    "lr = ElasticNet(alpha=0.01)\n",
    "lr.fit(X, y)\n",
    "r2_score(y, lr.predict(X))"
   ]
  },
  {
   "cell_type": "code",
   "execution_count": 433,
   "metadata": {},
   "outputs": [],
   "source": [
    "X_bol = df[[\"bol_all\", 'koyki_all']].values"
   ]
  },
  {
   "cell_type": "code",
   "execution_count": 434,
   "metadata": {},
   "outputs": [],
   "source": [
    "X_bol = (X_bol - X.mean(axis=1, keepdims=True)) / X.std(axis=1, keepdims=True)"
   ]
  },
  {
   "cell_type": "code",
   "execution_count": 435,
   "metadata": {},
   "outputs": [],
   "source": [
    "from sklearn.linear_model import LogisticRegression"
   ]
  },
  {
   "cell_type": "code",
   "execution_count": 478,
   "metadata": {},
   "outputs": [
    {
     "data": {
      "text/plain": [
       "0.7068965517241379"
      ]
     },
     "execution_count": 478,
     "metadata": {},
     "output_type": "execute_result"
    }
   ],
   "source": [
    "lr = LogisticRegression()\n",
    "lr.fit(X_bol, y > y.mean())\n",
    "roc_auc_score(y > y.mean(), lr.predict_proba(X_bol)[:, 1])"
   ]
  },
  {
   "cell_type": "code",
   "execution_count": 437,
   "metadata": {},
   "outputs": [],
   "source": [
    "from sklearn.metrics import roc_curve"
   ]
  },
  {
   "cell_type": "code",
   "execution_count": 440,
   "metadata": {},
   "outputs": [],
   "source": []
  },
  {
   "cell_type": "code",
   "execution_count": null,
   "metadata": {},
   "outputs": [],
   "source": [
    "(0.25, 0.671875, 0.453125)"
   ]
  },
  {
   "cell_type": "code",
   "execution_count": 457,
   "metadata": {},
   "outputs": [
    {
     "data": {
      "text/plain": [
       "Text(0.5, 1.0, 'ROC Curve')"
      ]
     },
     "execution_count": 457,
     "metadata": {},
     "output_type": "execute_result"
    },
    {
     "data": {
      "image/png": "[encoded data removed]",
      "text/plain": [
       "<Figure size 432x288 with 1 Axes>"
      ]
     },
     "metadata": {
      "needs_background": "light"
     },
     "output_type": "display_data"
    }
   ],
   "source": [
    "a, b, c = roc_curve(y > y, lr.predict_proba(X_bol)[:, 1])\n",
    "plt.plot(a, b, color=(0.25, 0.671875, 0.453125))\n",
    "plt.fill_between(a, 0, b, color=(0.25, 0.671875, 0.453125, 0.3))\n",
    "plt.xlabel(\"False Positive Rate\")\n",
    "plt.ylabel(\"True Positive Rate\")\n",
    "plt.text(0.7, 0.15, \"AUC = 0.71\" )\n",
    "plt.title(\"ROC Curve\")"
   ]
  },
  {
   "cell_type": "code",
   "execution_count": 393,
   "metadata": {},
   "outputs": [
    {
     "data": {
      "text/plain": [
       "array(['Численность населения за 2017', 'Процент с ожирением  за 2017',\n",
       "       'Доходы: Медианный доход на душу населения за 2017',\n",
       "       'Доходы: Средний доход на душу населения за 2017',\n",
       "       'Зарплаты: медианная за 2017', 'Зарплаты: средняя за 2017',\n",
       "       'Оборот общественного питания  за 2017',\n",
       "       'Оборот розничной торговли на душу населения в постоянных ценах  за 2017',\n",
       "       'Потребление электроэнергии за 2017', 'road_length', 'area', 'vvp',\n",
       "       'population', 'density', 'koyki_all'], dtype='<U102')"
      ]
     },
     "execution_count": 393,
     "metadata": {},
     "output_type": "execute_result"
    }
   ],
   "source": [
    "np.array(columns)[np.abs(lr.coef_) > 0.01]"
   ]
  },
  {
   "cell_type": "code",
   "execution_count": 458,
   "metadata": {},
   "outputs": [],
   "source": [
    "from scipy.stats import spearmanr"
   ]
  },
  {
   "cell_type": "code",
   "execution_count": null,
   "metadata": {},
   "outputs": [],
   "source": [
    "from sklea"
   ]
  },
  {
   "cell_type": "code",
   "execution_count": 474,
   "metadata": {},
   "outputs": [],
   "source": [
    "rhos, pvals = [], []\n",
    "res = []\n",
    "for col in columns + [\"lat\", \"lon\"]:\n",
    "    rho, pval = spearmanr(y, df[col].values)\n",
    "    rhos.append(rho)\n",
    "    pvals.append(pval)\n",
    "    res.append([rho, pval])"
   ]
  },
  {
   "cell_type": "code",
   "execution_count": 475,
   "metadata": {},
   "outputs": [],
   "source": [
    "res_spe = pd.DataFrame(data=res, columns=[\"rho\", \"pval\"], index=columns + [\"lat\", \"lon\"])"
   ]
  },
  {
   "cell_type": "code",
   "execution_count": 476,
   "metadata": {},
   "outputs": [
    {
     "data": {
      "text/html": [
       "<div>\n",
       "<style scoped>\n",
       "    .dataframe tbody tr th:only-of-type {\n",
       "        vertical-align: middle;\n",
       "    }\n",
       "\n",
       "    .dataframe tbody tr th {\n",
       "        vertical-align: top;\n",
       "    }\n",
       "\n",
       "    .dataframe thead th {\n",
       "        text-align: right;\n",
       "    }\n",
       "</style>\n",
       "<table border=\"1\" class=\"dataframe\">\n",
       "  <thead>\n",
       "    <tr style=\"text-align: right;\">\n",
       "      <th></th>\n",
       "      <th>rho</th>\n",
       "      <th>pval</th>\n",
       "    </tr>\n",
       "  </thead>\n",
       "  <tbody>\n",
       "    <tr>\n",
       "      <td>lat</td>\n",
       "      <td>0.316023</td>\n",
       "      <td>0.013098</td>\n",
       "    </tr>\n",
       "    <tr>\n",
       "      <td>Миграционный прирост населения  за 2017</td>\n",
       "      <td>-0.273536</td>\n",
       "      <td>0.032920</td>\n",
       "    </tr>\n",
       "    <tr>\n",
       "      <td>warm_temp_3</td>\n",
       "      <td>-0.272308</td>\n",
       "      <td>0.033746</td>\n",
       "    </tr>\n",
       "    <tr>\n",
       "      <td>2. Процент не раскрытых преступлений средней тяжести  за 2017</td>\n",
       "      <td>-0.259718</td>\n",
       "      <td>0.043246</td>\n",
       "    </tr>\n",
       "    <tr>\n",
       "      <td>avg_temp</td>\n",
       "      <td>-0.249441</td>\n",
       "      <td>0.052543</td>\n",
       "    </tr>\n",
       "    <tr>\n",
       "      <td>Трудовая миграция между регионами: процент работающих в других регионах за 2017</td>\n",
       "      <td>0.247974</td>\n",
       "      <td>0.053994</td>\n",
       "    </tr>\n",
       "    <tr>\n",
       "      <td>Смертность от болезней органов пищеварения  за 2017</td>\n",
       "      <td>0.243951</td>\n",
       "      <td>0.058140</td>\n",
       "    </tr>\n",
       "    <tr>\n",
       "      <td>humidity</td>\n",
       "      <td>0.232045</td>\n",
       "      <td>0.071942</td>\n",
       "    </tr>\n",
       "    <tr>\n",
       "      <td>area</td>\n",
       "      <td>-0.231320</td>\n",
       "      <td>0.072861</td>\n",
       "    </tr>\n",
       "    <tr>\n",
       "      <td>Количество преступников — женщин: доля от общего числа преступников  за 2017</td>\n",
       "      <td>0.223444</td>\n",
       "      <td>0.083449</td>\n",
       "    </tr>\n",
       "    <tr>\n",
       "      <td>Количество преступников — учащихся и студентов  за 2017</td>\n",
       "      <td>0.220265</td>\n",
       "      <td>0.088053</td>\n",
       "    </tr>\n",
       "    <tr>\n",
       "      <td>cold_temp_3</td>\n",
       "      <td>-0.217442</td>\n",
       "      <td>0.092307</td>\n",
       "    </tr>\n",
       "    <tr>\n",
       "      <td>Получение взятки, дача взятки и злоупотребление вместе  за 2017</td>\n",
       "      <td>-0.214055</td>\n",
       "      <td>0.097621</td>\n",
       "    </tr>\n",
       "    <tr>\n",
       "      <td>Трудовая миграция между регионами (относительная) за 2017</td>\n",
       "      <td>-0.212750</td>\n",
       "      <td>0.099730</td>\n",
       "    </tr>\n",
       "    <tr>\n",
       "      <td>Преступлений в отношении иностранцев и лиц без гражданства  за 2017</td>\n",
       "      <td>-0.203589</td>\n",
       "      <td>0.115553</td>\n",
       "    </tr>\n",
       "    <tr>\n",
       "      <td>Количество преступников, совершивших деяние в состоянии алкогольного опьянения  за 2017</td>\n",
       "      <td>0.199976</td>\n",
       "      <td>0.122296</td>\n",
       "    </tr>\n",
       "    <tr>\n",
       "      <td>Смертность от болезней системы кровообращения  за 2017</td>\n",
       "      <td>0.199712</td>\n",
       "      <td>0.122801</td>\n",
       "    </tr>\n",
       "    <tr>\n",
       "      <td>Смертность от внешних причин: убийства  за 2017</td>\n",
       "      <td>0.198850</td>\n",
       "      <td>0.124459</td>\n",
       "    </tr>\n",
       "    <tr>\n",
       "      <td>Смертность от внешних причин: самоубийства  за 2017</td>\n",
       "      <td>0.196153</td>\n",
       "      <td>0.129755</td>\n",
       "    </tr>\n",
       "    <tr>\n",
       "      <td>Реальные доходы населения  за 2017</td>\n",
       "      <td>-0.194752</td>\n",
       "      <td>0.132573</td>\n",
       "    </tr>\n",
       "    <tr>\n",
       "      <td>Смертность от новообразований  за 2017</td>\n",
       "      <td>0.192787</td>\n",
       "      <td>0.136602</td>\n",
       "    </tr>\n",
       "    <tr>\n",
       "      <td>Количество заключенных браков  за 2017</td>\n",
       "      <td>-0.188314</td>\n",
       "      <td>0.146115</td>\n",
       "    </tr>\n",
       "    <tr>\n",
       "      <td>Естественный прирост населения. Смертность  за 2017</td>\n",
       "      <td>0.187078</td>\n",
       "      <td>0.148829</td>\n",
       "    </tr>\n",
       "    <tr>\n",
       "      <td>Общая демографическая нагрузка за 2017</td>\n",
       "      <td>0.183532</td>\n",
       "      <td>0.156824</td>\n",
       "    </tr>\n",
       "    <tr>\n",
       "      <td>Умышленное причинение тяжкого вреда здоровью, повлекшее по неосторожности смерть потерпевшего  за 2017</td>\n",
       "      <td>0.180883</td>\n",
       "      <td>0.163001</td>\n",
       "    </tr>\n",
       "    <tr>\n",
       "      <td>life</td>\n",
       "      <td>-0.173462</td>\n",
       "      <td>0.181250</td>\n",
       "    </tr>\n",
       "    <tr>\n",
       "      <td>Злоупотребление должностными полномочиями  за 2017</td>\n",
       "      <td>-0.172271</td>\n",
       "      <td>0.184312</td>\n",
       "    </tr>\n",
       "    <tr>\n",
       "      <td>Количество несовершеннолетних преступников  за 2017</td>\n",
       "      <td>0.171380</td>\n",
       "      <td>0.186626</td>\n",
       "    </tr>\n",
       "    <tr>\n",
       "      <td>Смертность от внешних причин  за 2017</td>\n",
       "      <td>0.169866</td>\n",
       "      <td>0.190607</td>\n",
       "    </tr>\n",
       "    <tr>\n",
       "      <td>rain</td>\n",
       "      <td>-0.168558</td>\n",
       "      <td>0.194096</td>\n",
       "    </tr>\n",
       "    <tr>\n",
       "      <td>Оценка гражданами исполнительной власти  за 2017</td>\n",
       "      <td>-0.164454</td>\n",
       "      <td>0.205334</td>\n",
       "    </tr>\n",
       "    <tr>\n",
       "      <td>alkashka</td>\n",
       "      <td>0.160558</td>\n",
       "      <td>0.216422</td>\n",
       "    </tr>\n",
       "    <tr>\n",
       "      <td>Зарплаты в ПМ: средняя за 2017</td>\n",
       "      <td>-0.159165</td>\n",
       "      <td>0.220487</td>\n",
       "    </tr>\n",
       "    <tr>\n",
       "      <td>Ожидаемая продолжительность жизни  за 2017</td>\n",
       "      <td>-0.158177</td>\n",
       "      <td>0.223405</td>\n",
       "    </tr>\n",
       "    <tr>\n",
       "      <td>salary</td>\n",
       "      <td>-0.155140</td>\n",
       "      <td>0.232534</td>\n",
       "    </tr>\n",
       "    <tr>\n",
       "      <td>Смертность от болезней органов дыхания  за 2017</td>\n",
       "      <td>0.154853</td>\n",
       "      <td>0.233409</td>\n",
       "    </tr>\n",
       "    <tr>\n",
       "      <td>Умышленное причинение тяжкого вреда здоровью  за 2017</td>\n",
       "      <td>0.154597</td>\n",
       "      <td>0.234193</td>\n",
       "    </tr>\n",
       "    <tr>\n",
       "      <td>Смертность от внешних причин: транспортные травмы  за 2017</td>\n",
       "      <td>-0.150984</td>\n",
       "      <td>0.245439</td>\n",
       "    </tr>\n",
       "    <tr>\n",
       "      <td>Преступлений экстремистской направленности  за 2017</td>\n",
       "      <td>0.147168</td>\n",
       "      <td>0.257713</td>\n",
       "    </tr>\n",
       "    <tr>\n",
       "      <td>hotels</td>\n",
       "      <td>-0.144984</td>\n",
       "      <td>0.264920</td>\n",
       "    </tr>\n",
       "    <tr>\n",
       "      <td>Смертность от внешних причин: случайные отравления алкоголем за 2017</td>\n",
       "      <td>0.144739</td>\n",
       "      <td>0.265738</td>\n",
       "    </tr>\n",
       "    <tr>\n",
       "      <td>5. Процент не раскрытых убийств и покушений на убийства  за 2017</td>\n",
       "      <td>-0.144323</td>\n",
       "      <td>0.267128</td>\n",
       "    </tr>\n",
       "    <tr>\n",
       "      <td>Жилье: площадь на душу населения  за 2017</td>\n",
       "      <td>0.138472</td>\n",
       "      <td>0.287209</td>\n",
       "    </tr>\n",
       "    <tr>\n",
       "      <td>Коэффициент рождаемости  за 2017</td>\n",
       "      <td>0.135910</td>\n",
       "      <td>0.296306</td>\n",
       "    </tr>\n",
       "    <tr>\n",
       "      <td>Естественный прирост населения  за 2017</td>\n",
       "      <td>-0.129615</td>\n",
       "      <td>0.319449</td>\n",
       "    </tr>\n",
       "    <tr>\n",
       "      <td>Количество рецидивистов  за 2017</td>\n",
       "      <td>0.128214</td>\n",
       "      <td>0.324751</td>\n",
       "    </tr>\n",
       "    <tr>\n",
       "      <td>Жилье: процент неблагоустроенного  за 2017</td>\n",
       "      <td>0.125388</td>\n",
       "      <td>0.335617</td>\n",
       "    </tr>\n",
       "    <tr>\n",
       "      <td>1. Преступлений небольшой тяжести  за 2017</td>\n",
       "      <td>0.123772</td>\n",
       "      <td>0.341933</td>\n",
       "    </tr>\n",
       "    <tr>\n",
       "      <td>Оборот розничной торговли на душу населения в постоянных ценах  за 2017</td>\n",
       "      <td>-0.122027</td>\n",
       "      <td>0.348835</td>\n",
       "    </tr>\n",
       "    <tr>\n",
       "      <td>1. Процент не раскрытых преступлений небольшой тяжести  за 2017</td>\n",
       "      <td>0.120441</td>\n",
       "      <td>0.355184</td>\n",
       "    </tr>\n",
       "    <tr>\n",
       "      <td>Количество преступников — неграждан РФ  за 2017</td>\n",
       "      <td>-0.119363</td>\n",
       "      <td>0.359537</td>\n",
       "    </tr>\n",
       "    <tr>\n",
       "      <td>Убийства и покушения на убийство  за 2017</td>\n",
       "      <td>0.118954</td>\n",
       "      <td>0.361197</td>\n",
       "    </tr>\n",
       "    <tr>\n",
       "      <td>Вымогательства  за 2017</td>\n",
       "      <td>0.118948</td>\n",
       "      <td>0.361222</td>\n",
       "    </tr>\n",
       "    <tr>\n",
       "      <td>happy</td>\n",
       "      <td>-0.118911</td>\n",
       "      <td>0.361373</td>\n",
       "    </tr>\n",
       "    <tr>\n",
       "      <td>Доля детей  за 2017</td>\n",
       "      <td>0.118575</td>\n",
       "      <td>0.362741</td>\n",
       "    </tr>\n",
       "    <tr>\n",
       "      <td>Количество несовершеннолетних преступников: доля от числа подростков 14–17 лет  за 2017</td>\n",
       "      <td>0.117110</td>\n",
       "      <td>0.368739</td>\n",
       "    </tr>\n",
       "    <tr>\n",
       "      <td>Жилье: строительство нового  за 2017</td>\n",
       "      <td>0.116666</td>\n",
       "      <td>0.370574</td>\n",
       "    </tr>\n",
       "    <tr>\n",
       "      <td>Количество разыскиваемых лиц  за 2017</td>\n",
       "      <td>-0.114629</td>\n",
       "      <td>0.379039</td>\n",
       "    </tr>\n",
       "    <tr>\n",
       "      <td>Количество преступников — женщин  за 2017</td>\n",
       "      <td>0.113489</td>\n",
       "      <td>0.383830</td>\n",
       "    </tr>\n",
       "    <tr>\n",
       "      <td>Оценка гражданами межнациональных отношений  за 2017</td>\n",
       "      <td>0.113312</td>\n",
       "      <td>0.384579</td>\n",
       "    </tr>\n",
       "    <tr>\n",
       "      <td>Оборот общественного питания  за 2017</td>\n",
       "      <td>0.109917</td>\n",
       "      <td>0.399073</td>\n",
       "    </tr>\n",
       "    <tr>\n",
       "      <td>Потребление электроэнергии за 2017</td>\n",
       "      <td>0.109071</td>\n",
       "      <td>0.402735</td>\n",
       "    </tr>\n",
       "    <tr>\n",
       "      <td>Преступлений, связанных с незаконным оборотом наркотиков  за 2017</td>\n",
       "      <td>-0.107114</td>\n",
       "      <td>0.411277</td>\n",
       "    </tr>\n",
       "    <tr>\n",
       "      <td>Доходы: Средний доход на душу населения за 2017</td>\n",
       "      <td>-0.105739</td>\n",
       "      <td>0.417342</td>\n",
       "    </tr>\n",
       "    <tr>\n",
       "      <td>Зарплаты в ПМ: медианная за 2017</td>\n",
       "      <td>-0.105221</td>\n",
       "      <td>0.419639</td>\n",
       "    </tr>\n",
       "    <tr>\n",
       "      <td>koyki_all</td>\n",
       "      <td>-0.101486</td>\n",
       "      <td>0.436424</td>\n",
       "    </tr>\n",
       "    <tr>\n",
       "      <td>Количество пенсионеров МВД  за 2017</td>\n",
       "      <td>0.100715</td>\n",
       "      <td>0.439934</td>\n",
       "    </tr>\n",
       "    <tr>\n",
       "      <td>Процент с ожирением  за 2017</td>\n",
       "      <td>0.100186</td>\n",
       "      <td>0.442351</td>\n",
       "    </tr>\n",
       "    <tr>\n",
       "      <td>0. Процент не раскрытых преступлений, всего  за 2017</td>\n",
       "      <td>-0.098312</td>\n",
       "      <td>0.450980</td>\n",
       "    </tr>\n",
       "    <tr>\n",
       "      <td>Экономических преступлений  за 2017</td>\n",
       "      <td>-0.095695</td>\n",
       "      <td>0.463176</td>\n",
       "    </tr>\n",
       "    <tr>\n",
       "      <td>Смертность от инфекционных и паразитарных болезней  за 2017</td>\n",
       "      <td>0.091783</td>\n",
       "      <td>0.481741</td>\n",
       "    </tr>\n",
       "    <tr>\n",
       "      <td>2. Преступлений средней тяжести  за 2017</td>\n",
       "      <td>-0.091461</td>\n",
       "      <td>0.483288</td>\n",
       "    </tr>\n",
       "    <tr>\n",
       "      <td>Зарплаты: средняя за 2017</td>\n",
       "      <td>-0.089134</td>\n",
       "      <td>0.494532</td>\n",
       "    </tr>\n",
       "    <tr>\n",
       "      <td>Доходы: Соотношение медианного и среднего дохода за 2017</td>\n",
       "      <td>0.088680</td>\n",
       "      <td>0.496741</td>\n",
       "    </tr>\n",
       "    <tr>\n",
       "      <td>Зарплаты: отношение медианной зарплаты к средней за 2017</td>\n",
       "      <td>0.086705</td>\n",
       "      <td>0.506416</td>\n",
       "    </tr>\n",
       "    <tr>\n",
       "      <td>Доходы: Медианный доход на душу населения за 2017</td>\n",
       "      <td>-0.086225</td>\n",
       "      <td>0.508778</td>\n",
       "    </tr>\n",
       "    <tr>\n",
       "      <td>Выявлено лиц, совершивших преступления  за 2017</td>\n",
       "      <td>0.085273</td>\n",
       "      <td>0.513485</td>\n",
       "    </tr>\n",
       "    <tr>\n",
       "      <td>density</td>\n",
       "      <td>0.085034</td>\n",
       "      <td>0.514671</td>\n",
       "    </tr>\n",
       "    <tr>\n",
       "      <td>Медицина: численность врачей  за 2017</td>\n",
       "      <td>-0.081466</td>\n",
       "      <td>0.532532</td>\n",
       "    </tr>\n",
       "    <tr>\n",
       "      <td>Преступлений, связанных с незаконным оборотом оружия  за 2017</td>\n",
       "      <td>-0.079755</td>\n",
       "      <td>0.541205</td>\n",
       "    </tr>\n",
       "    <tr>\n",
       "      <td>Зарплаты: медианная за 2017</td>\n",
       "      <td>-0.079721</td>\n",
       "      <td>0.541377</td>\n",
       "    </tr>\n",
       "    <tr>\n",
       "      <td>road_length</td>\n",
       "      <td>-0.079355</td>\n",
       "      <td>0.543241</td>\n",
       "    </tr>\n",
       "    <tr>\n",
       "      <td>Грабежи  за 2017</td>\n",
       "      <td>0.073591</td>\n",
       "      <td>0.572999</td>\n",
       "    </tr>\n",
       "    <tr>\n",
       "      <td>Доходы: Соотношение медианного дохода и прожиточного минимума за 2017</td>\n",
       "      <td>-0.072731</td>\n",
       "      <td>0.577503</td>\n",
       "    </tr>\n",
       "    <tr>\n",
       "      <td>Безработица  за 2017</td>\n",
       "      <td>0.069895</td>\n",
       "      <td>0.592470</td>\n",
       "    </tr>\n",
       "    <tr>\n",
       "      <td>Убийства  за 2017</td>\n",
       "      <td>0.068334</td>\n",
       "      <td>0.600784</td>\n",
       "    </tr>\n",
       "    <tr>\n",
       "      <td>4. Особо тяжких преступлений  за 2017</td>\n",
       "      <td>0.065920</td>\n",
       "      <td>0.613734</td>\n",
       "    </tr>\n",
       "    <tr>\n",
       "      <td>Кражи  за 2017</td>\n",
       "      <td>-0.064862</td>\n",
       "      <td>0.619451</td>\n",
       "    </tr>\n",
       "    <tr>\n",
       "      <td>Рентабельность экономики  за 2017</td>\n",
       "      <td>-0.064280</td>\n",
       "      <td>0.622603</td>\n",
       "    </tr>\n",
       "    <tr>\n",
       "      <td>Дача взятки  за 2017</td>\n",
       "      <td>-0.063063</td>\n",
       "      <td>0.629215</td>\n",
       "    </tr>\n",
       "    <tr>\n",
       "      <td>Коэффициент рождаемости в сёлах  за 2017</td>\n",
       "      <td>0.062460</td>\n",
       "      <td>0.632504</td>\n",
       "    </tr>\n",
       "    <tr>\n",
       "      <td>Коэффициент рождаемости в городах  за 2017</td>\n",
       "      <td>0.060059</td>\n",
       "      <td>0.645668</td>\n",
       "    </tr>\n",
       "    <tr>\n",
       "      <td>bars</td>\n",
       "      <td>-0.055692</td>\n",
       "      <td>0.669887</td>\n",
       "    </tr>\n",
       "    <tr>\n",
       "      <td>3. Тяжких преступлений  за 2017</td>\n",
       "      <td>-0.053808</td>\n",
       "      <td>0.680442</td>\n",
       "    </tr>\n",
       "    <tr>\n",
       "      <td>Количество преступников, не имеющих постоянного источника дохода  за 2017</td>\n",
       "      <td>0.052645</td>\n",
       "      <td>0.686991</td>\n",
       "    </tr>\n",
       "    <tr>\n",
       "      <td>Количество преступников, совершивших деяние в состоянии наркотического опьянения  за 2017</td>\n",
       "      <td>-0.048894</td>\n",
       "      <td>0.708257</td>\n",
       "    </tr>\n",
       "    <tr>\n",
       "      <td>Разбой  за 2017</td>\n",
       "      <td>-0.048704</td>\n",
       "      <td>0.709342</td>\n",
       "    </tr>\n",
       "    <tr>\n",
       "      <td>Численность населения за 2017</td>\n",
       "      <td>-0.045929</td>\n",
       "      <td>0.725229</td>\n",
       "    </tr>\n",
       "    <tr>\n",
       "      <td>3. Процент не раскрытых тяжких преступлений  за 2017</td>\n",
       "      <td>-0.044395</td>\n",
       "      <td>0.734059</td>\n",
       "    </tr>\n",
       "    <tr>\n",
       "      <td>4. Процент не раскрытых особо тяжких преступлений  за 2017</td>\n",
       "      <td>-0.044395</td>\n",
       "      <td>0.734059</td>\n",
       "    </tr>\n",
       "    <tr>\n",
       "      <td>Преступлений террористического характера  за 2017</td>\n",
       "      <td>-0.044268</td>\n",
       "      <td>0.734793</td>\n",
       "    </tr>\n",
       "    <tr>\n",
       "      <td>Количество разводов  за 2017</td>\n",
       "      <td>0.040903</td>\n",
       "      <td>0.754291</td>\n",
       "    </tr>\n",
       "    <tr>\n",
       "      <td>Доля пожилых  за 2017</td>\n",
       "      <td>0.039517</td>\n",
       "      <td>0.762369</td>\n",
       "    </tr>\n",
       "    <tr>\n",
       "      <td>lon</td>\n",
       "      <td>0.034320</td>\n",
       "      <td>0.792872</td>\n",
       "    </tr>\n",
       "    <tr>\n",
       "      <td>Количество бандитов (в составе организованной группы)  за 2017</td>\n",
       "      <td>0.033757</td>\n",
       "      <td>0.796201</td>\n",
       "    </tr>\n",
       "    <tr>\n",
       "      <td>Изнасилования  за 2017</td>\n",
       "      <td>0.033384</td>\n",
       "      <td>0.798400</td>\n",
       "    </tr>\n",
       "    <tr>\n",
       "      <td>Хулиганства  за 2017</td>\n",
       "      <td>-0.029151</td>\n",
       "      <td>0.823528</td>\n",
       "    </tr>\n",
       "    <tr>\n",
       "      <td>Количество беспризорников  за 2017</td>\n",
       "      <td>0.025781</td>\n",
       "      <td>0.843655</td>\n",
       "    </tr>\n",
       "    <tr>\n",
       "      <td>vvp</td>\n",
       "      <td>-0.024205</td>\n",
       "      <td>0.853099</td>\n",
       "    </tr>\n",
       "    <tr>\n",
       "      <td>Урбанизация за 2017</td>\n",
       "      <td>0.022292</td>\n",
       "      <td>0.864596</td>\n",
       "    </tr>\n",
       "    <tr>\n",
       "      <td>Получение взятки  за 2017</td>\n",
       "      <td>-0.014982</td>\n",
       "      <td>0.908760</td>\n",
       "    </tr>\n",
       "    <tr>\n",
       "      <td>bol_all</td>\n",
       "      <td>0.014286</td>\n",
       "      <td>0.912982</td>\n",
       "    </tr>\n",
       "    <tr>\n",
       "      <td>Региональный прожиточный минимум за 2017</td>\n",
       "      <td>-0.012454</td>\n",
       "      <td>0.924109</td>\n",
       "    </tr>\n",
       "    <tr>\n",
       "      <td>Процент бедных  за 2017</td>\n",
       "      <td>0.011927</td>\n",
       "      <td>0.927308</td>\n",
       "    </tr>\n",
       "    <tr>\n",
       "      <td>Естественный прирост населения. Рождаемость  за 2017</td>\n",
       "      <td>0.010057</td>\n",
       "      <td>0.938686</td>\n",
       "    </tr>\n",
       "    <tr>\n",
       "      <td>population</td>\n",
       "      <td>-0.008514</td>\n",
       "      <td>0.948077</td>\n",
       "    </tr>\n",
       "    <tr>\n",
       "      <td>0. Общее число преступлений  за 2017</td>\n",
       "      <td>-0.003358</td>\n",
       "      <td>0.979509</td>\n",
       "    </tr>\n",
       "    <tr>\n",
       "      <td>Заболеваемость ожирением  за 2017</td>\n",
       "      <td>0.000952</td>\n",
       "      <td>0.994191</td>\n",
       "    </tr>\n",
       "  </tbody>\n",
       "</table>\n",
       "</div>"
      ],
      "text/plain": [
       "                                                         rho      pval\n",
       "lat                                                 0.316023  0.013098\n",
       "Миграционный прирост населения  за 2017            -0.273536  0.032920\n",
       "warm_temp_3                                        -0.272308  0.033746\n",
       "2. Процент не раскрытых преступлений средней тя... -0.259718  0.043246\n",
       "avg_temp                                           -0.249441  0.052543\n",
       "Трудовая миграция между регионами: процент рабо...  0.247974  0.053994\n",
       "Смертность от болезней органов пищеварения  за ...  0.243951  0.058140\n",
       "humidity                                            0.232045  0.071942\n",
       "area                                               -0.231320  0.072861\n",
       "Количество преступников — женщин: доля от общег...  0.223444  0.083449\n",
       "Количество преступников — учащихся и студентов ...  0.220265  0.088053\n",
       "cold_temp_3                                        -0.217442  0.092307\n",
       "Получение взятки, дача взятки и злоупотребление... -0.214055  0.097621\n",
       "Трудовая миграция между регионами (относительна... -0.212750  0.099730\n",
       "Преступлений в отношении иностранцев и лиц без ... -0.203589  0.115553\n",
       "Количество преступников, совершивших деяние в с...  0.199976  0.122296\n",
       "Смертность от болезней системы кровообращения  ...  0.199712  0.122801\n",
       "Смертность от внешних причин: убийства  за 2017     0.198850  0.124459\n",
       "Смертность от внешних причин: самоубийства  за ...  0.196153  0.129755\n",
       "Реальные доходы населения  за 2017                 -0.194752  0.132573\n",
       "Смертность от новообразований  за 2017              0.192787  0.136602\n",
       "Количество заключенных браков  за 2017             -0.188314  0.146115\n",
       "Естественный прирост населения. Смертность  за ...  0.187078  0.148829\n",
       "Общая демографическая нагрузка за 2017              0.183532  0.156824\n",
       "Умышленное причинение тяжкого вреда здоровью, п...  0.180883  0.163001\n",
       "life                                               -0.173462  0.181250\n",
       "Злоупотребление должностными полномочиями  за 2017 -0.172271  0.184312\n",
       "Количество несовершеннолетних преступников  за ...  0.171380  0.186626\n",
       "Смертность от внешних причин  за 2017               0.169866  0.190607\n",
       "rain                                               -0.168558  0.194096\n",
       "Оценка гражданами исполнительной власти  за 2017   -0.164454  0.205334\n",
       "alkashka                                            0.160558  0.216422\n",
       "Зарплаты в ПМ: средняя за 2017                     -0.159165  0.220487\n",
       "Ожидаемая продолжительность жизни  за 2017         -0.158177  0.223405\n",
       "salary                                             -0.155140  0.232534\n",
       "Смертность от болезней органов дыхания  за 2017     0.154853  0.233409\n",
       "Умышленное причинение тяжкого вреда здоровью  з...  0.154597  0.234193\n",
       "Смертность от внешних причин: транспортные трав... -0.150984  0.245439\n",
       "Преступлений экстремистской направленности  за ...  0.147168  0.257713\n",
       "hotels                                             -0.144984  0.264920\n",
       "Смертность от внешних причин: случайные отравле...  0.144739  0.265738\n",
       "5. Процент не раскрытых убийств и покушений на ... -0.144323  0.267128\n",
       "Жилье: площадь на душу населения  за 2017           0.138472  0.287209\n",
       "Коэффициент рождаемости  за 2017                    0.135910  0.296306\n",
       "Естественный прирост населения  за 2017            -0.129615  0.319449\n",
       "Количество рецидивистов  за 2017                    0.128214  0.324751\n",
       "Жилье: процент неблагоустроенного  за 2017          0.125388  0.335617\n",
       "1. Преступлений небольшой тяжести  за 2017          0.123772  0.341933\n",
       "Оборот розничной торговли на душу населения в п... -0.122027  0.348835\n",
       "1. Процент не раскрытых преступлений небольшой ...  0.120441  0.355184\n",
       "Количество преступников — неграждан РФ  за 2017    -0.119363  0.359537\n",
       "Убийства и покушения на убийство  за 2017           0.118954  0.361197\n",
       "Вымогательства  за 2017                             0.118948  0.361222\n",
       "happy                                              -0.118911  0.361373\n",
       "Доля детей  за 2017                                 0.118575  0.362741\n",
       "Количество несовершеннолетних преступников: дол...  0.117110  0.368739\n",
       "Жилье: строительство нового  за 2017                0.116666  0.370574\n",
       "Количество разыскиваемых лиц  за 2017              -0.114629  0.379039\n",
       "Количество преступников — женщин  за 2017           0.113489  0.383830\n",
       "Оценка гражданами межнациональных отношений  за...  0.113312  0.384579\n",
       "Оборот общественного питания  за 2017               0.109917  0.399073\n",
       "Потребление электроэнергии за 2017                  0.109071  0.402735\n",
       "Преступлений, связанных с незаконным оборотом н... -0.107114  0.411277\n",
       "Доходы: Средний доход на душу населения за 2017    -0.105739  0.417342\n",
       "Зарплаты в ПМ: медианная за 2017                   -0.105221  0.419639\n",
       "koyki_all                                          -0.101486  0.436424\n",
       "Количество пенсионеров МВД  за 2017                 0.100715  0.439934\n",
       "Процент с ожирением  за 2017                        0.100186  0.442351\n",
       "0. Процент не раскрытых преступлений, всего  за... -0.098312  0.450980\n",
       "Экономических преступлений  за 2017                -0.095695  0.463176\n",
       "Смертность от инфекционных и паразитарных болез...  0.091783  0.481741\n",
       "2. Преступлений средней тяжести  за 2017           -0.091461  0.483288\n",
       "Зарплаты: средняя за 2017                          -0.089134  0.494532\n",
       "Доходы: Соотношение медианного и среднего доход...  0.088680  0.496741\n",
       "Зарплаты: отношение медианной зарплаты к средне...  0.086705  0.506416\n",
       "Доходы: Медианный доход на душу населения за 2017  -0.086225  0.508778\n",
       "Выявлено лиц, совершивших преступления  за 2017     0.085273  0.513485\n",
       "density                                             0.085034  0.514671\n",
       "Медицина: численность врачей  за 2017              -0.081466  0.532532\n",
       "Преступлений, связанных с незаконным оборотом о... -0.079755  0.541205\n",
       "Зарплаты: медианная за 2017                        -0.079721  0.541377\n",
       "road_length                                        -0.079355  0.543241\n",
       "Грабежи  за 2017                                    0.073591  0.572999\n",
       "Доходы: Соотношение медианного дохода и прожито... -0.072731  0.577503\n",
       "Безработица  за 2017                                0.069895  0.592470\n",
       "Убийства  за 2017                                   0.068334  0.600784\n",
       "4. Особо тяжких преступлений  за 2017               0.065920  0.613734\n",
       "Кражи  за 2017                                     -0.064862  0.619451\n",
       "Рентабельность экономики  за 2017                  -0.064280  0.622603\n",
       "Дача взятки  за 2017                               -0.063063  0.629215\n",
       "Коэффициент рождаемости в сёлах  за 2017            0.062460  0.632504\n",
       "Коэффициент рождаемости в городах  за 2017          0.060059  0.645668\n",
       "bars                                               -0.055692  0.669887\n",
       "3. Тяжких преступлений  за 2017                    -0.053808  0.680442\n",
       "Количество преступников, не имеющих постоянного...  0.052645  0.686991\n",
       "Количество преступников, совершивших деяние в с... -0.048894  0.708257\n",
       "Разбой  за 2017                                    -0.048704  0.709342\n",
       "Численность населения за 2017                      -0.045929  0.725229\n",
       "3. Процент не раскрытых тяжких преступлений  за... -0.044395  0.734059\n",
       "4. Процент не раскрытых особо тяжких преступлен... -0.044395  0.734059\n",
       "Преступлений террористического характера  за 2017  -0.044268  0.734793\n",
       "Количество разводов  за 2017                        0.040903  0.754291\n",
       "Доля пожилых  за 2017                               0.039517  0.762369\n",
       "lon                                                 0.034320  0.792872\n",
       "Количество бандитов (в составе организованной г...  0.033757  0.796201\n",
       "Изнасилования  за 2017                              0.033384  0.798400\n",
       "Хулиганства  за 2017                               -0.029151  0.823528\n",
       "Количество беспризорников  за 2017                  0.025781  0.843655\n",
       "vvp                                                -0.024205  0.853099\n",
       "Урбанизация за 2017                                 0.022292  0.864596\n",
       "Получение взятки  за 2017                          -0.014982  0.908760\n",
       "bol_all                                             0.014286  0.912982\n",
       "Региональный прожиточный минимум за 2017           -0.012454  0.924109\n",
       "Процент бедных  за 2017                             0.011927  0.927308\n",
       "Естественный прирост населения. Рождаемость  за...  0.010057  0.938686\n",
       "population                                         -0.008514  0.948077\n",
       "0. Общее число преступлений  за 2017               -0.003358  0.979509\n",
       "Заболеваемость ожирением  за 2017                   0.000952  0.994191"
      ]
     },
     "execution_count": 476,
     "metadata": {},
     "output_type": "execute_result"
    }
   ],
   "source": [
    "res_spe.sort_values(by=\"pval\")"
   ]
  },
  {
   "cell_type": "code",
   "execution_count": null,
   "metadata": {},
   "outputs": [],
   "source": []
  }
 ],
 "metadata": {
  "kernelspec": {
   "display_name": "Python 3",
   "language": "python",
   "name": "python3"
  },
  "language_info": {
   "codemirror_mode": {
    "name": "ipython",
    "version": 3
   },
   "file_extension": ".py",
   "mimetype": "text/x-python",
   "name": "python",
   "nbconvert_exporter": "python",
   "pygments_lexer": "ipython3",
   "version": "3.7.4"
  }
 },
 "nbformat": 4,
 "nbformat_minor": 2
}
