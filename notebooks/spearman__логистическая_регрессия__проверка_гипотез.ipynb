{
 "cells": [
  {
   "cell_type": "markdown",
   "metadata": {},
   "source": [
    "# Проверка гипотез. Тесты Спирмана, логистическая регрессия по количеству больниц и коечных мест"
   ]
  },
  {
   "cell_type": "code",
   "execution_count": 6,
   "metadata": {},
   "outputs": [],
   "source": [
    "import pandas as pd\n",
    "import numpy as np"
   ]
  },
  {
   "cell_type": "code",
   "execution_count": 16,
   "metadata": {},
   "outputs": [],
   "source": [
    "X = pd.read_csv(\"final_X.csv\").rename(columns={\"Unnamed: 0\" : \"city\"})\n",
    "y = pd.read_csv(\"final_y.csv\", header=None).rename(columns={0 : \"city\", 1 : \"level\"}).set_index(\"city\")"
   ]
  },
  {
   "cell_type": "code",
   "execution_count": 17,
   "metadata": {},
   "outputs": [
    {
     "data": {
      "text/html": [
       "<div>\n",
       "<style scoped>\n",
       "    .dataframe tbody tr th:only-of-type {\n",
       "        vertical-align: middle;\n",
       "    }\n",
       "\n",
       "    .dataframe tbody tr th {\n",
       "        vertical-align: top;\n",
       "    }\n",
       "\n",
       "    .dataframe thead th {\n",
       "        text-align: right;\n",
       "    }\n",
       "</style>\n",
       "<table border=\"1\" class=\"dataframe\">\n",
       "  <thead>\n",
       "    <tr style=\"text-align: right;\">\n",
       "      <th></th>\n",
       "      <th>level</th>\n",
       "    </tr>\n",
       "    <tr>\n",
       "      <th>city</th>\n",
       "      <th></th>\n",
       "    </tr>\n",
       "  </thead>\n",
       "  <tbody>\n",
       "    <tr>\n",
       "      <td>Архангельск</td>\n",
       "      <td>28.129084</td>\n",
       "    </tr>\n",
       "    <tr>\n",
       "      <td>Астрахань</td>\n",
       "      <td>29.783378</td>\n",
       "    </tr>\n",
       "    <tr>\n",
       "      <td>Барнаул</td>\n",
       "      <td>44.720463</td>\n",
       "    </tr>\n",
       "    <tr>\n",
       "      <td>Белгород</td>\n",
       "      <td>22.837688</td>\n",
       "    </tr>\n",
       "    <tr>\n",
       "      <td>Биробиджан</td>\n",
       "      <td>35.555491</td>\n",
       "    </tr>\n",
       "    <tr>\n",
       "      <td>...</td>\n",
       "      <td>...</td>\n",
       "    </tr>\n",
       "    <tr>\n",
       "      <td>Челябинск</td>\n",
       "      <td>37.289467</td>\n",
       "    </tr>\n",
       "    <tr>\n",
       "      <td>Чита</td>\n",
       "      <td>3.136986</td>\n",
       "    </tr>\n",
       "    <tr>\n",
       "      <td>Южно-Сахалинск</td>\n",
       "      <td>31.055334</td>\n",
       "    </tr>\n",
       "    <tr>\n",
       "      <td>Якутск</td>\n",
       "      <td>34.764029</td>\n",
       "    </tr>\n",
       "    <tr>\n",
       "      <td>Ярославль</td>\n",
       "      <td>22.459999</td>\n",
       "    </tr>\n",
       "  </tbody>\n",
       "</table>\n",
       "<p>61 rows × 1 columns</p>\n",
       "</div>"
      ],
      "text/plain": [
       "                    level\n",
       "city                     \n",
       "Архангельск     28.129084\n",
       "Астрахань       29.783378\n",
       "Барнаул         44.720463\n",
       "Белгород        22.837688\n",
       "Биробиджан      35.555491\n",
       "...                   ...\n",
       "Челябинск       37.289467\n",
       "Чита             3.136986\n",
       "Южно-Сахалинск  31.055334\n",
       "Якутск          34.764029\n",
       "Ярославль       22.459999\n",
       "\n",
       "[61 rows x 1 columns]"
      ]
     },
     "execution_count": 17,
     "metadata": {},
     "output_type": "execute_result"
    }
   ],
   "source": [
    "y"
   ]
  },
  {
   "cell_type": "markdown",
   "metadata": {},
   "source": [
    "# Логистическая регрессия"
   ]
  },
  {
   "cell_type": "code",
   "execution_count": 19,
   "metadata": {},
   "outputs": [
    {
     "name": "stderr",
     "output_type": "stream",
     "text": [
      "/Users/anton/opt/anaconda3/lib/python3.7/site-packages/sklearn/utils/validation.py:73: DataConversionWarning: A column-vector y was passed when a 1d array was expected. Please change the shape of y to (n_samples, ), for example using ravel().\n",
      "  return f(**kwargs)\n"
     ]
    },
    {
     "data": {
      "text/plain": [
       "0.7068965517241379"
      ]
     },
     "execution_count": 19,
     "metadata": {},
     "output_type": "execute_result"
    }
   ],
   "source": [
    "from sklearn.linear_model import LogisticRegression\n",
    "from sklearn.metrics import roc_auc_score, roc_curve\n",
    "\n",
    "X_bol = X[[\"bol_all\", 'koyki_all']].values\n",
    "lr = LogisticRegression()\n",
    "lr.fit(X_bol, y > y.mean())\n",
    "roc_auc_score(y > y.mean(), lr.predict_proba(X_bol)[:, 1])"
   ]
  },
  {
   "cell_type": "code",
   "execution_count": 22,
   "metadata": {},
   "outputs": [
    {
     "data": {
      "image/png": "[encoded data removed]",
      "text/plain": [
       "<Figure size 432x288 with 1 Axes>"
      ]
     },
     "metadata": {
      "needs_background": "light"
     },
     "output_type": "display_data"
    }
   ],
   "source": [
    "import matplotlib.pyplot as plt\n",
    "a, b, c = roc_curve(y > y.mean(), lr.predict_proba(X_bol)[:, 1])\n",
    "plt.plot(a, b, color=(0.25, 0.671875, 0.453125))\n",
    "plt.fill_between(a, 0, b, color=(0.25, 0.671875, 0.453125, 0.3))\n",
    "plt.xlabel(\"False Positive Rate\")\n",
    "plt.ylabel(\"True Positive Rate\")\n",
    "plt.text(0.7, 0.15, \"AUC = 0.71\" )\n",
    "plt.title(\"ROC Curve\")\n",
    "plt.show()"
   ]
  },
  {
   "cell_type": "markdown",
   "metadata": {},
   "source": [
    "# Spearman"
   ]
  },
  {
   "cell_type": "code",
   "execution_count": 26,
   "metadata": {},
   "outputs": [],
   "source": [
    "from scipy.stats import spearmanr\n",
    "\n",
    "rhos, pvals = [], []\n",
    "res = []\n",
    "for col in X.columns:\n",
    "    rho, pval = spearmanr(y, X[col].values)\n",
    "    rhos.append(rho)\n",
    "    pvals.append(pval)\n",
    "    res.append([rho, pval])"
   ]
  },
  {
   "cell_type": "code",
   "execution_count": 28,
   "metadata": {},
   "outputs": [
    {
     "data": {
      "text/html": [
       "<div>\n",
       "<style scoped>\n",
       "    .dataframe tbody tr th:only-of-type {\n",
       "        vertical-align: middle;\n",
       "    }\n",
       "\n",
       "    .dataframe tbody tr th {\n",
       "        vertical-align: top;\n",
       "    }\n",
       "\n",
       "    .dataframe thead th {\n",
       "        text-align: right;\n",
       "    }\n",
       "</style>\n",
       "<table border=\"1\" class=\"dataframe\">\n",
       "  <thead>\n",
       "    <tr style=\"text-align: right;\">\n",
       "      <th></th>\n",
       "      <th>rho</th>\n",
       "      <th>pval</th>\n",
       "    </tr>\n",
       "  </thead>\n",
       "  <tbody>\n",
       "    <tr>\n",
       "      <td>lat</td>\n",
       "      <td>0.316023</td>\n",
       "      <td>0.013098</td>\n",
       "    </tr>\n",
       "    <tr>\n",
       "      <td>Миграционный прирост населения  за 2017</td>\n",
       "      <td>-0.273536</td>\n",
       "      <td>0.032920</td>\n",
       "    </tr>\n",
       "    <tr>\n",
       "      <td>warm_temp_3</td>\n",
       "      <td>-0.272308</td>\n",
       "      <td>0.033746</td>\n",
       "    </tr>\n",
       "    <tr>\n",
       "      <td>2. Процент не раскрытых преступлений средней тяжести  за 2017</td>\n",
       "      <td>-0.259718</td>\n",
       "      <td>0.043246</td>\n",
       "    </tr>\n",
       "    <tr>\n",
       "      <td>avg_temp</td>\n",
       "      <td>-0.249441</td>\n",
       "      <td>0.052543</td>\n",
       "    </tr>\n",
       "    <tr>\n",
       "      <td>...</td>\n",
       "      <td>...</td>\n",
       "      <td>...</td>\n",
       "    </tr>\n",
       "    <tr>\n",
       "      <td>bol_all</td>\n",
       "      <td>0.014286</td>\n",
       "      <td>0.912982</td>\n",
       "    </tr>\n",
       "    <tr>\n",
       "      <td>Процент бедных  за 2017</td>\n",
       "      <td>0.011927</td>\n",
       "      <td>0.927308</td>\n",
       "    </tr>\n",
       "    <tr>\n",
       "      <td>Естественный прирост населения. Рождаемость  за 2017</td>\n",
       "      <td>0.010057</td>\n",
       "      <td>0.938686</td>\n",
       "    </tr>\n",
       "    <tr>\n",
       "      <td>population</td>\n",
       "      <td>-0.008514</td>\n",
       "      <td>0.948077</td>\n",
       "    </tr>\n",
       "    <tr>\n",
       "      <td>0. Общее число преступлений  за 2017</td>\n",
       "      <td>-0.003358</td>\n",
       "      <td>0.979509</td>\n",
       "    </tr>\n",
       "  </tbody>\n",
       "</table>\n",
       "<p>118 rows × 2 columns</p>\n",
       "</div>"
      ],
      "text/plain": [
       "                                                         rho      pval\n",
       "lat                                                 0.316023  0.013098\n",
       "Миграционный прирост населения  за 2017            -0.273536  0.032920\n",
       "warm_temp_3                                        -0.272308  0.033746\n",
       "2. Процент не раскрытых преступлений средней тя... -0.259718  0.043246\n",
       "avg_temp                                           -0.249441  0.052543\n",
       "...                                                      ...       ...\n",
       "bol_all                                             0.014286  0.912982\n",
       "Процент бедных  за 2017                             0.011927  0.927308\n",
       "Естественный прирост населения. Рождаемость  за...  0.010057  0.938686\n",
       "population                                         -0.008514  0.948077\n",
       "0. Общее число преступлений  за 2017               -0.003358  0.979509\n",
       "\n",
       "[118 rows x 2 columns]"
      ]
     },
     "execution_count": 28,
     "metadata": {},
     "output_type": "execute_result"
    }
   ],
   "source": [
    "res_spe = pd.DataFrame(data=res, columns=[\"rho\", \"pval\"], index=list(X.columns))\n",
    "res_spe.sort_values(by=\"pval\")"
   ]
  },
  {
   "cell_type": "code",
   "execution_count": null,
   "metadata": {},
   "outputs": [],
   "source": []
  }
 ],
 "metadata": {
  "kernelspec": {
   "display_name": "Python 3",
   "language": "python",
   "name": "python3"
  },
  "language_info": {
   "codemirror_mode": {
    "name": "ipython",
    "version": 3
   },
   "file_extension": ".py",
   "mimetype": "text/x-python",
   "name": "python",
   "nbconvert_exporter": "python",
   "pygments_lexer": "ipython3",
   "version": "3.7.4"
  }
 },
 "nbformat": 4,
 "nbformat_minor": 2
}
