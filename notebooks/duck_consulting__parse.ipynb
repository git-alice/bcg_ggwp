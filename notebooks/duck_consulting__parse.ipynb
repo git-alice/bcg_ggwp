{
 "cells": [
  {
   "cell_type": "markdown",
   "id": "381cb9b1",
   "metadata": {},
   "source": [
    "### Ноутбук парсит данные и сохраняет по регионам с сайта `hps://russia.duck.consulting` и сохраняет отдельно в каждый файл - каждый регион"
   ]
  },
  {
   "cell_type": "code",
   "execution_count": 116,
   "id": "ef006250",
   "metadata": {},
   "outputs": [],
   "source": [
    "import pandas as pd \n",
    "from pathlib import Path"
   ]
  },
  {
   "cell_type": "code",
   "execution_count": 6,
   "id": "26e9901a",
   "metadata": {},
   "outputs": [],
   "source": [
    "from bs4 import BeautifulSoup\n",
    "import requests"
   ]
  },
  {
   "cell_type": "code",
   "execution_count": 71,
   "id": "51c8fd26",
   "metadata": {},
   "outputs": [],
   "source": [
    "url = 'https://russia.duck.consulting'\n",
    "html = requests.get(url).content"
   ]
  },
  {
   "cell_type": "code",
   "execution_count": 7,
   "id": "e535f1f6",
   "metadata": {},
   "outputs": [],
   "source": [
    "data = BeautifulSoup(html, 'html.parser')"
   ]
  },
  {
   "cell_type": "code",
   "execution_count": 40,
   "id": "05ef1dbe",
   "metadata": {},
   "outputs": [],
   "source": [
    "  # finding parent <ul> tag\n",
    "body = data.find(\"body\")\n",
    "parent = data.find(\"body\").find(\"ul\")"
   ]
  },
  {
   "cell_type": "code",
   "execution_count": 45,
   "id": "bfc0b2de",
   "metadata": {},
   "outputs": [],
   "source": [
    "by_regions = body.find('a', string='''\n",
    "              Все перечисленные показатели — на каждый регион\n",
    "            ''').parent.find('ul')"
   ]
  },
  {
   "cell_type": "code",
   "execution_count": 112,
   "id": "86094f96",
   "metadata": {},
   "outputs": [],
   "source": [
    "def get_name(tag):\n",
    "    return tag.text.replace('\\n', '').replace(' ', '')\n",
    "\n",
    "def get_href(tag):\n",
    "    return url + tag.get('href')\n",
    "\n",
    "def get_id(tag):\n",
    "    return get_href(tag).split('/')[-1]\n",
    "\n",
    "def get_raw_df(tag):\n",
    "    return pd.read_html(get_href(tag), header=None, index_col=0)[0]"
   ]
  },
  {
   "cell_type": "code",
   "execution_count": 113,
   "id": "3414e5a5",
   "metadata": {},
   "outputs": [],
   "source": [
    "tag = by_regions.find_all('a')[0]\n",
    "name = get_name(tag)\n",
    "href = get_href(tag)"
   ]
  },
  {
   "cell_type": "code",
   "execution_count": 121,
   "id": "c0e9e2cc",
   "metadata": {},
   "outputs": [],
   "source": [
    "exists = [file.stem.split('__')[-1] for file in Path('./data2/').glob('*')]"
   ]
  },
  {
   "cell_type": "code",
   "execution_count": 122,
   "id": "1bb71422",
   "metadata": {},
   "outputs": [
    {
     "name": "stdout",
     "output_type": "stream",
     "text": [
      "pass: Адыгея\n",
      "pass: Башкортостан\n",
      "pass: Бурятия\n",
      "pass: РеспубликаАлтай\n",
      "pass: Дагестан\n",
      "pass: Ингушетия\n",
      "pass: Кабардино-Балкария\n",
      "pass: Калмыкия\n",
      "pass: Карачаево-Черкесия\n",
      "pass: Карелия\n",
      "pass: РеспубликаКоми\n",
      "pass: МарийЭл\n",
      "pass: Мордовия\n",
      "pass: Якутия\n",
      "pass: СевернаяОсетия\n",
      "pass: Татарстан\n",
      "pass: РеспубликаТыва\n",
      "pass: Удмуртия\n",
      "pass: Хакасия\n",
      "pass: Чувашия\n",
      "pass: Алтайскийкрай\n",
      "pass: Краснодарскийкрай\n",
      "pass: Красноярскийкрай\n",
      "pass: Приморскийкрай\n",
      "pass: Ставропольскийкрай\n",
      "pass: Хабаровскийкрай\n",
      "pass: Амурскаяобласть\n",
      "pass: Архангельскаяобласть\n",
      "pass: Астраханскаяобласть\n",
      "pass: Белгородскаяобласть\n",
      "pass: Брянскаяобласть\n",
      "pass: Владимирскаяобласть\n",
      "pass: Волгоградскаяобласть\n",
      "pass: Вологодскаяобласть\n",
      "pass: Воронежскаяобласть\n",
      "pass: Ивановскаяобласть\n",
      "pass: Иркутскаяобласть\n",
      "pass: Калининградскаяобласть\n",
      "pass: Калужскаяобласть\n",
      "pass: Камчатскийкрай\n",
      "pass: Кемеровскаяобласть\n",
      "pass: Кировскаяобласть\n",
      "Костромскаяобласть\n",
      "Курганскаяобласть\n",
      "Курскаяобласть\n",
      "Ленинградскаяобласть\n",
      "Липецкаяобласть\n",
      "Магаданскаяобласть\n",
      "Московскаяобласть\n",
      "Мурманскаяобласть\n",
      "Нижегородскаяобласть\n",
      "Новгородскаяобласть\n",
      "Новосибирскаяобласть\n",
      "Омскаяобласть\n",
      "Оренбургскаяобласть\n",
      "Орловскаяобласть\n",
      "Пензенскаяобласть\n",
      "Пермскийкрай\n",
      "Псковскаяобласть\n",
      "Ростовскаяобласть\n",
      "Рязанскаяобласть\n",
      "Самарскаяобласть\n",
      "Саратовскаяобласть\n",
      "Сахалинскаяобласть\n",
      "Свердловскаяобласть\n",
      "Смоленскаяобласть\n",
      "Тамбовскаяобласть\n",
      "Тверскаяобласть\n",
      "Томскаяобласть\n",
      "Тульскаяобласть\n",
      "Тюменскаяобласть\n",
      "Ульяновскаяобласть\n",
      "Челябинскаяобласть\n",
      "Забайкальскийкрай\n",
      "Ярославскаяобласть\n",
      "Москва\n",
      "Санкт-Петербург\n",
      "Еврейскаяавтономнаяобласть\n",
      "Крым\n",
      "Ненецкийавтономныйокруг\n",
      "Ханты-Мансийскийавтономныйокруг\n",
      "Чукотскийавтономныйокруг\n",
      "Ямало-Ненецкийавтономныйокруг\n",
      "Севастополь\n",
      "Чечня\n"
     ]
    }
   ],
   "source": [
    "for tag in by_regions.find_all('a'):\n",
    "    name = get_name(tag)\n",
    "    if name in exists:\n",
    "        print(f'pass: {name}')\n",
    "        continue\n",
    "    href = get_href(tag)\n",
    "    _id = get_id(tag)\n",
    "    df = get_raw_df(tag)\n",
    "    df.to_csv(f'./data2/{_id}__{name}.csv')\n",
    "    print(name)"
   ]
  },
  {
   "cell_type": "code",
   "execution_count": null,
   "id": "575cc354",
   "metadata": {},
   "outputs": [],
   "source": []
  },
  {
   "cell_type": "code",
   "execution_count": null,
   "id": "5f048e44",
   "metadata": {},
   "outputs": [],
   "source": []
  },
  {
   "cell_type": "code",
   "execution_count": null,
   "id": "230d81ee",
   "metadata": {},
   "outputs": [],
   "source": []
  },
  {
   "cell_type": "code",
   "execution_count": null,
   "id": "3ca41770",
   "metadata": {},
   "outputs": [],
   "source": []
  },
  {
   "cell_type": "code",
   "execution_count": null,
   "id": "5a74b4e0",
   "metadata": {},
   "outputs": [],
   "source": []
  }
 ],
 "metadata": {
  "kernelspec": {
   "display_name": "Python 3",
   "language": "python",
   "name": "python3"
  },
  "language_info": {
   "codemirror_mode": {
    "name": "ipython",
    "version": 3
   },
   "file_extension": ".py",
   "mimetype": "text/x-python",
   "name": "python",
   "nbconvert_exporter": "python",
   "pygments_lexer": "ipython3",
   "version": "3.8.5"
  }
 },
 "nbformat": 4,
 "nbformat_minor": 5
}
